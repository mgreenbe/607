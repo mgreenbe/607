{
 "cells": [
  {
   "cell_type": "markdown",
   "metadata": {},
   "source": [
    "### In-Class Assignment #2 (~1 hour)\n",
    "\n"
   ]
  },
  {
   "cell_type": "markdown",
   "metadata": {},
   "source": [
    "**Problem 1.**\n",
    "\n",
    "Use a neural network with a single layer consisting of a single neuron to classify the messages in `spambase.csv` as spam or non-spam. (This is just logistic regression, implemented as a neural network.)\n",
    "\n",
    "1. Train your network for at least 50 epochs.\n",
    "2. Use the `val_split=0.1` keyword argument in your fit method call to track estimated validation accuracy.\n",
    "3. Plot both training accuracy and validation accuracy, versus epoch number, on the same axes. Comment.\n",
    "4. Add a dropout layer at the beginning of your network. Play with the dropout rate to reduce overfitting as much as you can while maintaining classification accuracy. (Assess overfitting visually by examining the graphs of training accuracy and validation accuracy versus epoch number.)"
   ]
  },
  {
   "cell_type": "code",
   "execution_count": 8,
   "metadata": {},
   "outputs": [],
   "source": [
    "import pandas as pd\n",
    "data = pd.read_csv(\"https://raw.githubusercontent.com/mgreenbe/607/master/spam/spambase.csv\")\n",
    "values = data.values # Turn a pandas dataframe into a numpy matrix\n",
    "X = values[:, :57] # features\n",
    "y = values[:, 57] # target"
   ]
  },
  {
   "cell_type": "markdown",
   "metadata": {},
   "source": [
    "**Problem 2.**\n",
    "\n",
    "Load the `fashion-mnist` dataset. This dataset, similar to the standard `mnist` handwritten digit dataset, consists of 60,000 training images and 10,000 testing images in ten categories. The categories, and their class labels, are:\n",
    "\n",
    "| Label | Description |\n",
    "| --- | --- |\n",
    "| 0 | T-shirt/top |\n",
    "| 1 | Trouser |\n",
    "| 2 | Pullover |\n",
    "| 3 | Dress |\n",
    "| 4 | Coat |\n",
    "| 5 | Sandal |\n",
    "| 6 | Shirt |\n",
    "| 7 | Sneaker |\n",
    "| 8 | Bag |\n",
    "| 9 | Ankle boot |\n",
    "\n",
    "1. The logistic regression classifier built into `sklearn` achieves an 84% accuracy on the `fashion-mnist` test set.\n",
    "Beat that using a neural network with a single dense hidden layer consisting of 512 units.\n",
    "Pass the test set to your model's fit method to track the validation accuracy through the fitting process.\n",
    "Plot both training and validation accuracy, versus epoch number, on the same axes. (Try to let it run for at least 50 epochs.)\n",
    "\n",
    "2. Add a dropout layer with a dropout rate of 0.5 between the hidden and output layers. Fit your model again. Then\n",
    "plot training and validation accuracy, versus epoch number. Comment.\n",
    "\n",
    "3. Use your newly fit model to predict class labels for the test set.\n",
    "How many dresses were mistaken for shirts? How many shirts were mistaken for dresses? Display (plot) an example of a  dress mistaken for a shirt and of a shirt mistaken for a dress.\n",
    "\n",
    "4. **(Bonus)** Determine the proportion of testing samples whose true label is one of the three most probable predicted by your model. (Hint: The softmax output layer outputs probabilities. Use the `predict` method on your model, rather than predict_classes, to grab this information."
   ]
  },
  {
   "cell_type": "code",
   "execution_count": 18,
   "metadata": {},
   "outputs": [],
   "source": [
    "from tensorflow.keras.datasets import fashion_mnist\n",
    "(X_train, y_train), (X_test, y_test) = fashion_mnist.load_data()"
   ]
  }
 ],
 "metadata": {
  "kernelspec": {
   "display_name": "Python 3",
   "language": "python",
   "name": "python3"
  },
  "language_info": {
   "codemirror_mode": {
    "name": "ipython",
    "version": 3
   },
   "file_extension": ".py",
   "mimetype": "text/x-python",
   "name": "python",
   "nbconvert_exporter": "python",
   "pygments_lexer": "ipython3",
   "version": "3.6.5"
  }
 },
 "nbformat": 4,
 "nbformat_minor": 2
}
