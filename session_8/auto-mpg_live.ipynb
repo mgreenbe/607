{
 "cells": [
  {
   "cell_type": "markdown",
   "metadata": {},
   "source": [
    "### Regression with Neural Networks"
   ]
  },
  {
   "cell_type": "code",
   "execution_count": 3,
   "metadata": {},
   "outputs": [],
   "source": [
    "from __future__ import absolute_import, division, print_function\n",
    "import tensorflow as tf\n",
    "from tensorflow import keras\n",
    "import numpy as np\n",
    "from matplotlib import pyplot as plt\n",
    "import pandas as pd\n",
    "from sklearn.model_selection import cross_val_score\n",
    "from sklearn.preprocessing import StandardScaler\n",
    "from sklearn.base import BaseEstimator, RegressorMixin\n",
    "from sklearn.ensemble import RandomForestRegressor"
   ]
  },
  {
   "cell_type": "markdown",
   "metadata": {},
   "source": [
    "We'll work with the <a href=\"https://archive.ics.uci.edu/ml/datasets/auto+mpg\">Auto MPG Data Set</a> from the UC Irvine repository.\n",
    "\n",
    "We want to predict a car's fuel economy in miles per gallon (mpg) from its other characteristics using a neural network."
   ]
  },
  {
   "cell_type": "code",
   "execution_count": 29,
   "metadata": {
    "scrolled": true
   },
   "outputs": [
    {
     "data": {
      "text/plain": [
       "array([1., 1., 1., 1., 1., 1., 1., 1., 1.])"
      ]
     },
     "execution_count": 29,
     "metadata": {},
     "output_type": "execute_result"
    }
   ],
   "source": [
    "names = [\"mpg\", \"cylinders\", \"displacement\", \"horsepower\", \"weight\", \"acceleration\", \"model year\", \"origin\", \"car name\"] \n",
    "df = pd.read_csv(\"https://raw.githubusercontent.com/mgreenbe/607/master/session_8/auto-mpg.csv\", sep=\",\", names=names, index_col=8)\n",
    "XX = df.values\n",
    "y = XX[:, 0] #mpg\n",
    "country = np.array([XX[:, -1] == 1., XX[:, -1] == 2., XX[:, -1] == 3.]).T*1\n",
    "X = np.hstack([XX[:, 1:-1], country])\n",
    "X = X - X.mean(axis=0)\n",
    "X = X / X.std(axis=0)\n",
    "X.std(axis=0)\n",
    "# StandardScaler(copy=False).fit(X).transform(X)\n",
    "# df"
   ]
  },
  {
   "cell_type": "code",
   "execution_count": 30,
   "metadata": {},
   "outputs": [
    {
     "data": {
      "text/plain": [
       "(392, 9)"
      ]
     },
     "execution_count": 30,
     "metadata": {},
     "output_type": "execute_result"
    }
   ],
   "source": [
    "X.shape"
   ]
  },
  {
   "cell_type": "code",
   "execution_count": 31,
   "metadata": {},
   "outputs": [
    {
     "data": {
      "text/plain": [
       "(392,)"
      ]
     },
     "execution_count": 31,
     "metadata": {},
     "output_type": "execute_result"
    }
   ],
   "source": [
    "y.shape"
   ]
  },
  {
   "cell_type": "code",
   "execution_count": 32,
   "metadata": {},
   "outputs": [
    {
     "data": {
      "text/plain": [
       "array([18., 15., 18., 16., 17., 15., 14., 14., 14., 15.])"
      ]
     },
     "execution_count": 32,
     "metadata": {},
     "output_type": "execute_result"
    }
   ],
   "source": [
    "y[:10]"
   ]
  },
  {
   "cell_type": "code",
   "execution_count": 33,
   "metadata": {},
   "outputs": [
    {
     "data": {
      "text/plain": [
       "RandomForestRegressor(bootstrap=True, criterion='mse', max_depth=None,\n",
       "           max_features='auto', max_leaf_nodes=None,\n",
       "           min_impurity_decrease=0.0, min_impurity_split=None,\n",
       "           min_samples_leaf=1, min_samples_split=2,\n",
       "           min_weight_fraction_leaf=0.0, n_estimators=100, n_jobs=1,\n",
       "           oob_score=True, random_state=None, verbose=0, warm_start=False)"
      ]
     },
     "execution_count": 33,
     "metadata": {},
     "output_type": "execute_result"
    }
   ],
   "source": [
    "R = RandomForestRegressor(n_estimators=100, oob_score=True)\n",
    "R.fit(X, y)"
   ]
  },
  {
   "cell_type": "code",
   "execution_count": 34,
   "metadata": {},
   "outputs": [
    {
     "name": "stdout",
     "output_type": "stream",
     "text": [
      "7.540118899841293\n"
     ]
    }
   ],
   "source": [
    "y_p = R.oob_prediction_\n",
    "mse = np.mean((y_p - y)**2)\n",
    "print(mse)"
   ]
  },
  {
   "cell_type": "code",
   "execution_count": 35,
   "metadata": {},
   "outputs": [],
   "source": [
    "model = keras.Sequential()\n",
    "model.add(keras.layers.Dense(1, input_dim=X.shape[1], activation=\"linear\"))\n",
    "model.compile(loss=\"mse\", optimizer=\"rmsprop\")"
   ]
  },
  {
   "cell_type": "code",
   "execution_count": 36,
   "metadata": {
    "scrolled": true
   },
   "outputs": [
    {
     "name": "stdout",
     "output_type": "stream",
     "text": [
      "Model: \"sequential_4\"\n",
      "_________________________________________________________________\n",
      "Layer (type)                 Output Shape              Param #   \n",
      "=================================================================\n",
      "dense_3 (Dense)              (None, 1)                 10        \n",
      "=================================================================\n",
      "Total params: 10\n",
      "Trainable params: 10\n",
      "Non-trainable params: 0\n",
      "_________________________________________________________________\n"
     ]
    }
   ],
   "source": [
    "model.summary()"
   ]
  },
  {
   "cell_type": "code",
   "execution_count": 40,
   "metadata": {},
   "outputs": [
    {
     "data": {
      "text/plain": [
       "<tensorflow.python.keras.callbacks.History at 0x1a39850fd0>"
      ]
     },
     "execution_count": 40,
     "metadata": {},
     "output_type": "execute_result"
    }
   ],
   "source": [
    "model.fit(X, y, validation_split=0.2, verbose=0, epochs=200)"
   ]
  },
  {
   "cell_type": "code",
   "execution_count": 41,
   "metadata": {},
   "outputs": [
    {
     "data": {
      "image/png": "[encoded data removed]",
      "text/plain": [
       "<Figure size 432x288 with 1 Axes>"
      ]
     },
     "metadata": {},
     "output_type": "display_data"
    }
   ],
   "source": [
    "val_loss = model.history.history[\"val_loss\"]\n",
    "loss = model.history.history[\"loss\"]\n",
    "e = range(len(loss))\n",
    "plt.plot(e, val_loss, 'r', e, loss, 'b')\n",
    "plt.show()"
   ]
  },
  {
   "cell_type": "code",
   "execution_count": 23,
   "metadata": {},
   "outputs": [
    {
     "data": {
      "text/plain": [
       "31.334207065678857"
      ]
     },
     "execution_count": 23,
     "metadata": {},
     "output_type": "execute_result"
    }
   ],
   "source": [
    "np.mean(val_loss[100:])"
   ]
  },
  {
   "cell_type": "code",
   "execution_count": 50,
   "metadata": {},
   "outputs": [
    {
     "data": {
      "text/plain": [
       "<tensorflow.python.keras.callbacks.History at 0x1a3acf2860>"
      ]
     },
     "execution_count": 50,
     "metadata": {},
     "output_type": "execute_result"
    }
   ],
   "source": [
    "model = keras.Sequential()\n",
    "model.add(keras.layers.Dense(8, input_dim=X.shape[1], activation=\"relu\"))\n",
    "model.add(keras.layers.Dense(8, input_dim=X.shape[1], activation=\"relu\"))\n",
    "model.add(keras.layers.Dense(1, activation=\"linear\"))\n",
    "model.compile(loss=\"mse\", optimizer=\"rmsprop\")\n",
    "model.fit(X, y, validation_split=0.2, verbose=0, epochs=300)"
   ]
  },
  {
   "cell_type": "code",
   "execution_count": 51,
   "metadata": {},
   "outputs": [
    {
     "data": {
      "image/png": "[encoded data removed]",
      "text/plain": [
       "<Figure size 432x288 with 1 Axes>"
      ]
     },
     "metadata": {},
     "output_type": "display_data"
    }
   ],
   "source": [
    "val_loss = model.history.history[\"val_loss\"]\n",
    "loss = model.history.history[\"loss\"]\n",
    "e = range(len(loss))[250:]\n",
    "plt.plot(e, val_loss[250:], 'r', e, loss[250:], 'b')\n",
    "plt.show()"
   ]
  },
  {
   "cell_type": "code",
   "execution_count": 58,
   "metadata": {},
   "outputs": [],
   "source": [
    "class NN(BaseEstimator, RegressorMixin):\n",
    "    def __init__(self, n_units, n_hidden_layers=1):\n",
    "        self.n_units = n_units\n",
    "        self.n_hidden_layers = n_hidden_layers\n",
    "        model = keras.Sequential()\n",
    "        for _ in range(n_hidden_layers):\n",
    "            model.add(keras.layers.Dense(self.n_units, activation=\"relu\"))\n",
    "        model.add(keras.layers.Dense(1, activation=\"linear\"))\n",
    "        model.compile(loss=\"mse\", optimizer=\"rmsprop\")\n",
    "        self.model = model\n",
    "        \n",
    "    def fit(self, X, y, **kwargs):\n",
    "        self.model.fit(X, y, **kwargs)\n",
    "        \n",
    "    def predict(self, X):\n",
    "        return self.model.predict(X)"
   ]
  },
  {
   "cell_type": "code",
   "execution_count": 73,
   "metadata": {},
   "outputs": [],
   "source": [
    "R = NN(4, n_hidden_layers=2)"
   ]
  },
  {
   "cell_type": "code",
   "execution_count": 75,
   "metadata": {},
   "outputs": [
    {
     "name": "stdout",
     "output_type": "stream",
     "text": [
      "Train on 313 samples, validate on 79 samples\n",
      "Epoch 1/200\n",
      "313/313 [==============================] - 0s 42us/sample - loss: 5.2146 - val_loss: 17.5515\n",
      "Epoch 2/200\n",
      "313/313 [==============================] - 0s 39us/sample - loss: 5.2218 - val_loss: 17.7600\n",
      "Epoch 3/200\n",
      "313/313 [==============================] - 0s 36us/sample - loss: 5.2134 - val_loss: 17.5338\n",
      "Epoch 4/200\n",
      "313/313 [==============================] - 0s 34us/sample - loss: 5.1832 - val_loss: 17.2012\n",
      "Epoch 5/200\n",
      "313/313 [==============================] - 0s 40us/sample - loss: 5.2121 - val_loss: 17.3736\n",
      "Epoch 6/200\n",
      "313/313 [==============================] - 0s 37us/sample - loss: 5.1933 - val_loss: 17.2683\n",
      "Epoch 7/200\n",
      "313/313 [==============================] - 0s 37us/sample - loss: 5.1791 - val_loss: 17.3433\n",
      "Epoch 8/200\n",
      "313/313 [==============================] - 0s 40us/sample - loss: 5.1839 - val_loss: 17.4085\n",
      "Epoch 9/200\n",
      "313/313 [==============================] - 0s 34us/sample - loss: 5.1885 - val_loss: 17.6000\n",
      "Epoch 10/200\n",
      "313/313 [==============================] - 0s 31us/sample - loss: 5.1703 - val_loss: 17.4647\n",
      "Epoch 11/200\n",
      "313/313 [==============================] - 0s 31us/sample - loss: 5.1723 - val_loss: 17.5280\n",
      "Epoch 12/200\n",
      "313/313 [==============================] - 0s 33us/sample - loss: 5.1745 - val_loss: 17.5245\n",
      "Epoch 13/200\n",
      "313/313 [==============================] - 0s 32us/sample - loss: 5.1739 - val_loss: 17.5800\n",
      "Epoch 14/200\n",
      "313/313 [==============================] - 0s 30us/sample - loss: 5.1564 - val_loss: 17.4972\n",
      "Epoch 15/200\n",
      "313/313 [==============================] - 0s 30us/sample - loss: 5.1377 - val_loss: 17.2579\n",
      "Epoch 16/200\n",
      "313/313 [==============================] - 0s 32us/sample - loss: 5.1616 - val_loss: 17.3054\n",
      "Epoch 17/200\n",
      "313/313 [==============================] - 0s 30us/sample - loss: 5.1459 - val_loss: 17.3930\n",
      "Epoch 18/200\n",
      "313/313 [==============================] - 0s 29us/sample - loss: 5.1344 - val_loss: 17.3065\n",
      "Epoch 19/200\n",
      "313/313 [==============================] - 0s 30us/sample - loss: 5.1374 - val_loss: 17.4497\n",
      "Epoch 20/200\n",
      "313/313 [==============================] - 0s 35us/sample - loss: 5.1384 - val_loss: 17.4556\n",
      "Epoch 21/200\n",
      "313/313 [==============================] - 0s 32us/sample - loss: 5.1358 - val_loss: 17.4093\n",
      "Epoch 22/200\n",
      "313/313 [==============================] - 0s 30us/sample - loss: 5.1253 - val_loss: 17.3367\n",
      "Epoch 23/200\n",
      "313/313 [==============================] - 0s 29us/sample - loss: 5.1212 - val_loss: 17.3480\n",
      "Epoch 24/200\n",
      "313/313 [==============================] - 0s 33us/sample - loss: 5.1079 - val_loss: 17.3262\n",
      "Epoch 25/200\n",
      "313/313 [==============================] - 0s 32us/sample - loss: 5.1316 - val_loss: 17.2677\n",
      "Epoch 26/200\n",
      "313/313 [==============================] - 0s 30us/sample - loss: 5.1529 - val_loss: 17.2095\n",
      "Epoch 27/200\n",
      "313/313 [==============================] - 0s 30us/sample - loss: 5.1117 - val_loss: 17.2320\n",
      "Epoch 28/200\n",
      "313/313 [==============================] - 0s 33us/sample - loss: 5.0991 - val_loss: 17.3953\n",
      "Epoch 29/200\n",
      "313/313 [==============================] - 0s 31us/sample - loss: 5.1520 - val_loss: 17.3805\n",
      "Epoch 30/200\n",
      "313/313 [==============================] - 0s 30us/sample - loss: 5.1098 - val_loss: 17.2678\n",
      "Epoch 31/200\n",
      "313/313 [==============================] - 0s 30us/sample - loss: 5.0848 - val_loss: 17.4939\n",
      "Epoch 32/200\n",
      "313/313 [==============================] - 0s 34us/sample - loss: 5.0902 - val_loss: 17.4606\n",
      "Epoch 33/200\n",
      "313/313 [==============================] - 0s 31us/sample - loss: 5.0941 - val_loss: 17.4640\n",
      "Epoch 34/200\n",
      "313/313 [==============================] - 0s 30us/sample - loss: 5.1076 - val_loss: 17.2861\n",
      "Epoch 35/200\n",
      "313/313 [==============================] - 0s 29us/sample - loss: 5.0891 - val_loss: 17.4808\n",
      "Epoch 36/200\n",
      "313/313 [==============================] - 0s 33us/sample - loss: 5.0752 - val_loss: 17.2199\n",
      "Epoch 37/200\n",
      "313/313 [==============================] - 0s 31us/sample - loss: 5.0924 - val_loss: 17.2365\n",
      "Epoch 38/200\n",
      "313/313 [==============================] - 0s 29us/sample - loss: 5.0933 - val_loss: 17.3508\n",
      "Epoch 39/200\n",
      "313/313 [==============================] - 0s 30us/sample - loss: 5.0981 - val_loss: 17.4657\n",
      "Epoch 40/200\n",
      "313/313 [==============================] - 0s 32us/sample - loss: 5.0633 - val_loss: 17.4290\n",
      "Epoch 41/200\n",
      "313/313 [==============================] - 0s 31us/sample - loss: 5.0731 - val_loss: 17.2927\n",
      "Epoch 42/200\n",
      "313/313 [==============================] - 0s 30us/sample - loss: 5.0731 - val_loss: 17.3575\n",
      "Epoch 43/200\n",
      "313/313 [==============================] - 0s 29us/sample - loss: 5.0681 - val_loss: 17.4348\n",
      "Epoch 44/200\n",
      "313/313 [==============================] - 0s 32us/sample - loss: 5.0707 - val_loss: 17.2923\n",
      "Epoch 45/200\n",
      "313/313 [==============================] - 0s 32us/sample - loss: 5.0722 - val_loss: 17.3195\n",
      "Epoch 46/200\n",
      "313/313 [==============================] - 0s 29us/sample - loss: 5.0471 - val_loss: 17.4112\n",
      "Epoch 47/200\n",
      "313/313 [==============================] - 0s 30us/sample - loss: 5.0609 - val_loss: 17.4146\n",
      "Epoch 48/200\n",
      "313/313 [==============================] - 0s 31us/sample - loss: 5.0752 - val_loss: 17.4985\n",
      "Epoch 49/200\n",
      "313/313 [==============================] - 0s 32us/sample - loss: 5.0475 - val_loss: 17.3113\n",
      "Epoch 50/200\n",
      "313/313 [==============================] - 0s 31us/sample - loss: 5.0455 - val_loss: 17.3206\n",
      "Epoch 51/200\n",
      "313/313 [==============================] - 0s 30us/sample - loss: 5.0549 - val_loss: 17.2696\n",
      "Epoch 52/200\n",
      "313/313 [==============================] - 0s 30us/sample - loss: 5.0516 - val_loss: 17.2065\n",
      "Epoch 53/200\n",
      "313/313 [==============================] - 0s 32us/sample - loss: 5.0363 - val_loss: 17.3045\n",
      "Epoch 54/200\n",
      "313/313 [==============================] - 0s 32us/sample - loss: 5.0327 - val_loss: 17.4797\n",
      "Epoch 55/200\n",
      "313/313 [==============================] - 0s 32us/sample - loss: 5.0588 - val_loss: 17.3476\n",
      "Epoch 56/200\n",
      "313/313 [==============================] - 0s 32us/sample - loss: 5.0342 - val_loss: 17.4139\n",
      "Epoch 57/200\n",
      "313/313 [==============================] - 0s 30us/sample - loss: 5.0157 - val_loss: 17.6397\n",
      "Epoch 58/200\n",
      "313/313 [==============================] - 0s 33us/sample - loss: 5.0399 - val_loss: 17.4573\n",
      "Epoch 59/200\n",
      "313/313 [==============================] - 0s 31us/sample - loss: 5.0275 - val_loss: 17.3085\n",
      "Epoch 60/200\n",
      "313/313 [==============================] - 0s 32us/sample - loss: 5.0165 - val_loss: 17.3737\n",
      "Epoch 61/200\n",
      "313/313 [==============================] - 0s 33us/sample - loss: 5.0310 - val_loss: 17.3794\n",
      "Epoch 62/200\n",
      "313/313 [==============================] - 0s 29us/sample - loss: 5.0293 - val_loss: 17.3793\n",
      "Epoch 63/200\n",
      "313/313 [==============================] - 0s 30us/sample - loss: 5.0210 - val_loss: 17.3357\n",
      "Epoch 64/200\n",
      "313/313 [==============================] - 0s 30us/sample - loss: 5.0155 - val_loss: 17.2848\n",
      "Epoch 65/200\n",
      "313/313 [==============================] - 0s 31us/sample - loss: 5.0236 - val_loss: 17.2192\n",
      "Epoch 66/200\n",
      "313/313 [==============================] - 0s 30us/sample - loss: 5.0271 - val_loss: 17.2817\n",
      "Epoch 67/200\n",
      "313/313 [==============================] - 0s 29us/sample - loss: 5.0104 - val_loss: 17.2238\n",
      "Epoch 68/200\n",
      "313/313 [==============================] - 0s 30us/sample - loss: 5.0090 - val_loss: 17.1561\n",
      "Epoch 69/200\n",
      "313/313 [==============================] - 0s 32us/sample - loss: 5.0039 - val_loss: 17.2895\n",
      "Epoch 70/200\n",
      "313/313 [==============================] - 0s 31us/sample - loss: 5.0222 - val_loss: 17.3108\n",
      "Epoch 71/200\n",
      "313/313 [==============================] - 0s 30us/sample - loss: 4.9983 - val_loss: 17.3772\n",
      "Epoch 72/200\n",
      "313/313 [==============================] - 0s 31us/sample - loss: 5.0133 - val_loss: 17.3862\n",
      "Epoch 73/200\n",
      "313/313 [==============================] - 0s 30us/sample - loss: 5.0085 - val_loss: 17.4364\n",
      "Epoch 74/200\n",
      "313/313 [==============================] - 0s 30us/sample - loss: 5.0062 - val_loss: 17.2207\n",
      "Epoch 75/200\n",
      "313/313 [==============================] - 0s 29us/sample - loss: 5.0034 - val_loss: 17.1390\n",
      "Epoch 76/200\n",
      "313/313 [==============================] - 0s 30us/sample - loss: 4.9913 - val_loss: 17.0629\n",
      "Epoch 77/200\n",
      "313/313 [==============================] - 0s 30us/sample - loss: 4.9909 - val_loss: 17.0939\n"
     ]
    },
    {
     "name": "stdout",
     "output_type": "stream",
     "text": [
      "Epoch 78/200\n",
      "313/313 [==============================] - 0s 32us/sample - loss: 4.9753 - val_loss: 17.2226\n",
      "Epoch 79/200\n",
      "313/313 [==============================] - 0s 30us/sample - loss: 5.0229 - val_loss: 17.2136\n",
      "Epoch 80/200\n",
      "313/313 [==============================] - 0s 30us/sample - loss: 4.9834 - val_loss: 17.1985\n",
      "Epoch 81/200\n",
      "313/313 [==============================] - 0s 32us/sample - loss: 4.9882 - val_loss: 17.1138\n",
      "Epoch 82/200\n",
      "313/313 [==============================] - 0s 33us/sample - loss: 4.9744 - val_loss: 17.2039\n",
      "Epoch 83/200\n",
      "313/313 [==============================] - 0s 30us/sample - loss: 4.9796 - val_loss: 17.0470\n",
      "Epoch 84/200\n",
      "313/313 [==============================] - 0s 29us/sample - loss: 4.9885 - val_loss: 17.0033\n",
      "Epoch 85/200\n",
      "313/313 [==============================] - 0s 33us/sample - loss: 4.9750 - val_loss: 17.1153\n",
      "Epoch 86/200\n",
      "313/313 [==============================] - 0s 29us/sample - loss: 4.9837 - val_loss: 17.0303\n",
      "Epoch 87/200\n",
      "313/313 [==============================] - 0s 29us/sample - loss: 4.9767 - val_loss: 17.3124\n",
      "Epoch 88/200\n",
      "313/313 [==============================] - 0s 29us/sample - loss: 4.9784 - val_loss: 17.1924\n",
      "Epoch 89/200\n",
      "313/313 [==============================] - 0s 33us/sample - loss: 4.9699 - val_loss: 17.0822\n",
      "Epoch 90/200\n",
      "313/313 [==============================] - 0s 29us/sample - loss: 4.9834 - val_loss: 17.1305\n",
      "Epoch 91/200\n",
      "313/313 [==============================] - 0s 31us/sample - loss: 4.9653 - val_loss: 17.0773\n",
      "Epoch 92/200\n",
      "313/313 [==============================] - 0s 30us/sample - loss: 4.9788 - val_loss: 17.0176\n",
      "Epoch 93/200\n",
      "313/313 [==============================] - 0s 31us/sample - loss: 4.9641 - val_loss: 17.0774\n",
      "Epoch 94/200\n",
      "313/313 [==============================] - 0s 29us/sample - loss: 4.9512 - val_loss: 17.1307\n",
      "Epoch 95/200\n",
      "313/313 [==============================] - 0s 30us/sample - loss: 4.9621 - val_loss: 17.0949\n",
      "Epoch 96/200\n",
      "313/313 [==============================] - 0s 29us/sample - loss: 4.9679 - val_loss: 17.1968\n",
      "Epoch 97/200\n",
      "313/313 [==============================] - 0s 32us/sample - loss: 4.9617 - val_loss: 17.0758\n",
      "Epoch 98/200\n",
      "313/313 [==============================] - 0s 32us/sample - loss: 4.9721 - val_loss: 17.0887\n",
      "Epoch 99/200\n",
      "313/313 [==============================] - 0s 31us/sample - loss: 4.9601 - val_loss: 17.2532\n",
      "Epoch 100/200\n",
      "313/313 [==============================] - 0s 30us/sample - loss: 4.9581 - val_loss: 17.4395\n",
      "Epoch 101/200\n",
      "313/313 [==============================] - 0s 33us/sample - loss: 4.9529 - val_loss: 17.1794\n",
      "Epoch 102/200\n",
      "313/313 [==============================] - 0s 39us/sample - loss: 4.9671 - val_loss: 17.2141\n",
      "Epoch 103/200\n",
      "313/313 [==============================] - 0s 36us/sample - loss: 4.9455 - val_loss: 17.2222\n",
      "Epoch 104/200\n",
      "313/313 [==============================] - 0s 31us/sample - loss: 4.9631 - val_loss: 17.2998\n",
      "Epoch 105/200\n",
      "313/313 [==============================] - 0s 39us/sample - loss: 4.9555 - val_loss: 17.3311\n",
      "Epoch 106/200\n",
      "313/313 [==============================] - 0s 35us/sample - loss: 4.9483 - val_loss: 17.2046\n",
      "Epoch 107/200\n",
      "313/313 [==============================] - 0s 33us/sample - loss: 4.9446 - val_loss: 17.3190\n",
      "Epoch 108/200\n",
      "313/313 [==============================] - 0s 31us/sample - loss: 4.9444 - val_loss: 17.2861\n",
      "Epoch 109/200\n",
      "313/313 [==============================] - 0s 33us/sample - loss: 4.9650 - val_loss: 17.2551\n",
      "Epoch 110/200\n",
      "313/313 [==============================] - 0s 31us/sample - loss: 4.9283 - val_loss: 17.1660\n",
      "Epoch 111/200\n",
      "313/313 [==============================] - 0s 30us/sample - loss: 4.9435 - val_loss: 16.9439\n",
      "Epoch 112/200\n",
      "313/313 [==============================] - 0s 29us/sample - loss: 4.9617 - val_loss: 17.0135\n",
      "Epoch 113/200\n",
      "313/313 [==============================] - 0s 31us/sample - loss: 4.9391 - val_loss: 16.9619\n",
      "Epoch 114/200\n",
      "313/313 [==============================] - 0s 30us/sample - loss: 4.9144 - val_loss: 16.8308\n",
      "Epoch 115/200\n",
      "313/313 [==============================] - 0s 31us/sample - loss: 4.9597 - val_loss: 17.0122\n",
      "Epoch 116/200\n",
      "313/313 [==============================] - 0s 31us/sample - loss: 4.9352 - val_loss: 17.0352\n",
      "Epoch 117/200\n",
      "313/313 [==============================] - 0s 34us/sample - loss: 4.9491 - val_loss: 16.9120\n",
      "Epoch 118/200\n",
      "313/313 [==============================] - 0s 30us/sample - loss: 4.9261 - val_loss: 16.9989\n",
      "Epoch 119/200\n",
      "313/313 [==============================] - 0s 29us/sample - loss: 4.9523 - val_loss: 16.9588\n",
      "Epoch 120/200\n",
      "313/313 [==============================] - 0s 31us/sample - loss: 4.9182 - val_loss: 16.9103\n",
      "Epoch 121/200\n",
      "313/313 [==============================] - 0s 31us/sample - loss: 4.9239 - val_loss: 16.9504\n",
      "Epoch 122/200\n",
      "313/313 [==============================] - 0s 30us/sample - loss: 4.9242 - val_loss: 17.0055\n",
      "Epoch 123/200\n",
      "313/313 [==============================] - 0s 30us/sample - loss: 4.9322 - val_loss: 16.9108\n",
      "Epoch 124/200\n",
      "313/313 [==============================] - 0s 32us/sample - loss: 4.9136 - val_loss: 16.8487\n",
      "Epoch 125/200\n",
      "313/313 [==============================] - 0s 31us/sample - loss: 4.9311 - val_loss: 16.9477\n",
      "Epoch 126/200\n",
      "313/313 [==============================] - 0s 31us/sample - loss: 4.9111 - val_loss: 16.9068\n",
      "Epoch 127/200\n",
      "313/313 [==============================] - 0s 30us/sample - loss: 4.9302 - val_loss: 16.8311\n",
      "Epoch 128/200\n",
      "313/313 [==============================] - 0s 29us/sample - loss: 4.9254 - val_loss: 16.7559\n",
      "Epoch 129/200\n",
      "313/313 [==============================] - 0s 30us/sample - loss: 4.9234 - val_loss: 16.8870\n",
      "Epoch 130/200\n",
      "313/313 [==============================] - 0s 31us/sample - loss: 4.9151 - val_loss: 16.9847\n",
      "Epoch 131/200\n",
      "313/313 [==============================] - 0s 30us/sample - loss: 4.9133 - val_loss: 17.0158\n",
      "Epoch 132/200\n",
      "313/313 [==============================] - 0s 28us/sample - loss: 4.9196 - val_loss: 17.0753\n",
      "Epoch 133/200\n",
      "313/313 [==============================] - 0s 30us/sample - loss: 4.9080 - val_loss: 17.0620\n",
      "Epoch 134/200\n",
      "313/313 [==============================] - 0s 33us/sample - loss: 4.9118 - val_loss: 16.9898\n",
      "Epoch 135/200\n",
      "313/313 [==============================] - 0s 31us/sample - loss: 4.9016 - val_loss: 17.0583\n",
      "Epoch 136/200\n",
      "313/313 [==============================] - 0s 29us/sample - loss: 4.9123 - val_loss: 17.0304\n",
      "Epoch 137/200\n",
      "313/313 [==============================] - 0s 30us/sample - loss: 4.9294 - val_loss: 16.9366\n",
      "Epoch 138/200\n",
      "313/313 [==============================] - 0s 34us/sample - loss: 4.8875 - val_loss: 16.9893\n",
      "Epoch 139/200\n",
      "313/313 [==============================] - 0s 31us/sample - loss: 4.9040 - val_loss: 16.8979\n",
      "Epoch 140/200\n",
      "313/313 [==============================] - 0s 30us/sample - loss: 4.9029 - val_loss: 16.8637\n",
      "Epoch 141/200\n",
      "313/313 [==============================] - 0s 32us/sample - loss: 4.9036 - val_loss: 16.8185\n",
      "Epoch 142/200\n",
      "313/313 [==============================] - 0s 34us/sample - loss: 4.9004 - val_loss: 16.8484\n",
      "Epoch 143/200\n",
      "313/313 [==============================] - 0s 35us/sample - loss: 4.8906 - val_loss: 16.9913\n",
      "Epoch 144/200\n",
      "313/313 [==============================] - 0s 31us/sample - loss: 4.9071 - val_loss: 16.9140\n",
      "Epoch 145/200\n",
      "313/313 [==============================] - 0s 31us/sample - loss: 4.8826 - val_loss: 17.0125\n",
      "Epoch 146/200\n",
      "313/313 [==============================] - 0s 34us/sample - loss: 4.8870 - val_loss: 16.8790\n",
      "Epoch 147/200\n",
      "313/313 [==============================] - 0s 32us/sample - loss: 4.8708 - val_loss: 16.8733\n",
      "Epoch 148/200\n",
      "313/313 [==============================] - 0s 33us/sample - loss: 4.8762 - val_loss: 17.0651\n",
      "Epoch 149/200\n",
      "313/313 [==============================] - 0s 31us/sample - loss: 4.8917 - val_loss: 17.0254\n",
      "Epoch 150/200\n",
      "313/313 [==============================] - 0s 33us/sample - loss: 4.8839 - val_loss: 16.8020\n",
      "Epoch 151/200\n",
      "313/313 [==============================] - 0s 29us/sample - loss: 4.8894 - val_loss: 16.8953\n",
      "Epoch 152/200\n",
      "313/313 [==============================] - 0s 31us/sample - loss: 4.9047 - val_loss: 16.9071\n",
      "Epoch 153/200\n",
      "313/313 [==============================] - 0s 31us/sample - loss: 4.8678 - val_loss: 17.0243\n",
      "Epoch 154/200\n",
      "313/313 [==============================] - 0s 33us/sample - loss: 4.8844 - val_loss: 17.1534\n"
     ]
    },
    {
     "name": "stdout",
     "output_type": "stream",
     "text": [
      "Epoch 155/200\n",
      "313/313 [==============================] - 0s 29us/sample - loss: 4.8807 - val_loss: 17.0730\n",
      "Epoch 156/200\n",
      "313/313 [==============================] - 0s 32us/sample - loss: 4.8881 - val_loss: 16.9723\n",
      "Epoch 157/200\n",
      "313/313 [==============================] - 0s 33us/sample - loss: 4.8729 - val_loss: 16.8972\n",
      "Epoch 158/200\n",
      "313/313 [==============================] - 0s 33us/sample - loss: 4.8583 - val_loss: 16.9235\n",
      "Epoch 159/200\n",
      "313/313 [==============================] - 0s 30us/sample - loss: 4.8634 - val_loss: 17.1591\n",
      "Epoch 160/200\n",
      "313/313 [==============================] - 0s 30us/sample - loss: 4.8759 - val_loss: 16.9264\n",
      "Epoch 161/200\n",
      "313/313 [==============================] - 0s 31us/sample - loss: 4.8562 - val_loss: 17.0311\n",
      "Epoch 162/200\n",
      "313/313 [==============================] - 0s 30us/sample - loss: 4.8715 - val_loss: 16.9985\n",
      "Epoch 163/200\n",
      "313/313 [==============================] - 0s 31us/sample - loss: 4.8747 - val_loss: 17.0668\n",
      "Epoch 164/200\n",
      "313/313 [==============================] - 0s 31us/sample - loss: 4.8683 - val_loss: 17.0313\n",
      "Epoch 165/200\n",
      "313/313 [==============================] - 0s 33us/sample - loss: 4.8698 - val_loss: 17.0037\n",
      "Epoch 166/200\n",
      "313/313 [==============================] - 0s 34us/sample - loss: 4.8659 - val_loss: 16.9538\n",
      "Epoch 167/200\n",
      "313/313 [==============================] - 0s 31us/sample - loss: 4.8459 - val_loss: 16.8195\n",
      "Epoch 168/200\n",
      "313/313 [==============================] - 0s 30us/sample - loss: 4.8672 - val_loss: 16.8205\n",
      "Epoch 169/200\n",
      "313/313 [==============================] - 0s 31us/sample - loss: 4.8644 - val_loss: 16.8086\n",
      "Epoch 170/200\n",
      "313/313 [==============================] - 0s 29us/sample - loss: 4.8361 - val_loss: 17.0030\n",
      "Epoch 171/200\n",
      "313/313 [==============================] - 0s 29us/sample - loss: 4.8523 - val_loss: 16.9093\n",
      "Epoch 172/200\n",
      "313/313 [==============================] - 0s 30us/sample - loss: 4.8546 - val_loss: 16.7572\n",
      "Epoch 173/200\n",
      "313/313 [==============================] - 0s 34us/sample - loss: 4.8579 - val_loss: 16.8923\n",
      "Epoch 174/200\n",
      "313/313 [==============================] - 0s 29us/sample - loss: 4.8300 - val_loss: 16.8210\n",
      "Epoch 175/200\n",
      "313/313 [==============================] - 0s 30us/sample - loss: 4.8548 - val_loss: 16.7646\n",
      "Epoch 176/200\n",
      "313/313 [==============================] - 0s 30us/sample - loss: 4.8394 - val_loss: 16.8350\n",
      "Epoch 177/200\n",
      "313/313 [==============================] - 0s 32us/sample - loss: 4.8606 - val_loss: 16.8390\n",
      "Epoch 178/200\n",
      "313/313 [==============================] - 0s 30us/sample - loss: 4.8230 - val_loss: 17.0053\n",
      "Epoch 179/200\n",
      "313/313 [==============================] - 0s 29us/sample - loss: 4.8391 - val_loss: 16.8629\n",
      "Epoch 180/200\n",
      "313/313 [==============================] - 0s 29us/sample - loss: 4.8349 - val_loss: 17.0801\n",
      "Epoch 181/200\n",
      "313/313 [==============================] - 0s 33us/sample - loss: 4.8312 - val_loss: 16.9398\n",
      "Epoch 182/200\n",
      "313/313 [==============================] - 0s 29us/sample - loss: 4.8262 - val_loss: 17.0002\n",
      "Epoch 183/200\n",
      "313/313 [==============================] - 0s 30us/sample - loss: 4.8414 - val_loss: 16.8621\n",
      "Epoch 184/200\n",
      "313/313 [==============================] - 0s 29us/sample - loss: 4.8393 - val_loss: 16.8672\n",
      "Epoch 185/200\n",
      "313/313 [==============================] - 0s 31us/sample - loss: 4.8461 - val_loss: 16.7793\n",
      "Epoch 186/200\n",
      "313/313 [==============================] - 0s 31us/sample - loss: 4.8192 - val_loss: 17.0051\n",
      "Epoch 187/200\n",
      "313/313 [==============================] - 0s 30us/sample - loss: 4.8279 - val_loss: 16.9827\n",
      "Epoch 188/200\n",
      "313/313 [==============================] - 0s 30us/sample - loss: 4.8278 - val_loss: 16.9114\n",
      "Epoch 189/200\n",
      "313/313 [==============================] - 0s 31us/sample - loss: 4.8150 - val_loss: 16.6611\n",
      "Epoch 190/200\n",
      "313/313 [==============================] - 0s 32us/sample - loss: 4.8164 - val_loss: 16.7830\n",
      "Epoch 191/200\n",
      "313/313 [==============================] - 0s 30us/sample - loss: 4.8171 - val_loss: 16.7167\n",
      "Epoch 192/200\n",
      "313/313 [==============================] - 0s 29us/sample - loss: 4.8169 - val_loss: 16.8277\n",
      "Epoch 193/200\n",
      "313/313 [==============================] - 0s 30us/sample - loss: 4.8098 - val_loss: 16.9732\n",
      "Epoch 194/200\n",
      "313/313 [==============================] - 0s 33us/sample - loss: 4.8262 - val_loss: 17.0482\n",
      "Epoch 195/200\n",
      "313/313 [==============================] - 0s 32us/sample - loss: 4.8233 - val_loss: 16.9556\n",
      "Epoch 196/200\n",
      "313/313 [==============================] - 0s 30us/sample - loss: 4.8012 - val_loss: 16.9236\n",
      "Epoch 197/200\n",
      "313/313 [==============================] - 0s 31us/sample - loss: 4.8151 - val_loss: 16.9553\n",
      "Epoch 198/200\n",
      "313/313 [==============================] - 0s 32us/sample - loss: 4.8056 - val_loss: 16.8723\n",
      "Epoch 199/200\n",
      "313/313 [==============================] - 0s 30us/sample - loss: 4.8240 - val_loss: 16.9832\n",
      "Epoch 200/200\n",
      "313/313 [==============================] - 0s 29us/sample - loss: 4.8049 - val_loss: 16.8634\n"
     ]
    }
   ],
   "source": [
    "R.fit(X, y, validation_split=0.2, verbose=1, epochs=200)"
   ]
  },
  {
   "cell_type": "code",
   "execution_count": 76,
   "metadata": {},
   "outputs": [],
   "source": [
    "score = cross_val_score(R, X, y, cv=5, scoring=\"neg_mean_squared_error\", fit_params={\"epochs\": 300, \"verbose\": 0}).mean()"
   ]
  },
  {
   "cell_type": "code",
   "execution_count": 77,
   "metadata": {},
   "outputs": [
    {
     "data": {
      "text/plain": [
       "11.330654190607657"
      ]
     },
     "execution_count": 77,
     "metadata": {},
     "output_type": "execute_result"
    }
   ],
   "source": [
    "-score"
   ]
  },
  {
   "cell_type": "markdown",
   "metadata": {},
   "source": [
    "Choose `n_units` and `n_hidden_layers` by cross-validation."
   ]
  },
  {
   "cell_type": "code",
   "execution_count": 70,
   "metadata": {},
   "outputs": [],
   "source": [
    "scores = []\n",
    "for k in range(10):\n",
    "    n_units = 2**k\n",
    "    R = NN(n_units)\n",
    "    score = cross_val_score(R, X, y, cv=5, scoring=\"neg_mean_squared_error\", fit_params={\"epochs\": 300, \"verbose\": 0}).mean()\n",
    "    scores.append(score)"
   ]
  },
  {
   "cell_type": "code",
   "execution_count": 72,
   "metadata": {},
   "outputs": [
    {
     "data": {
      "image/png": "[encoded data removed]",
      "text/plain": [
       "<Figure size 432x288 with 1 Axes>"
      ]
     },
     "metadata": {},
     "output_type": "display_data"
    }
   ],
   "source": [
    "scores = -np.array(scores)\n",
    "plt.plot(range(10), scores)\n",
    "plt.show()"
   ]
  },
  {
   "cell_type": "code",
   "execution_count": null,
   "metadata": {},
   "outputs": [],
   "source": []
  }
 ],
 "metadata": {
  "kernelspec": {
   "display_name": "Python 3",
   "language": "python",
   "name": "python3"
  },
  "language_info": {
   "codemirror_mode": {
    "name": "ipython",
    "version": 3
   },
   "file_extension": ".py",
   "mimetype": "text/x-python",
   "name": "python",
   "nbconvert_exporter": "python",
   "pygments_lexer": "ipython3",
   "version": "3.6.5"
  }
 },
 "nbformat": 4,
 "nbformat_minor": 2
}
