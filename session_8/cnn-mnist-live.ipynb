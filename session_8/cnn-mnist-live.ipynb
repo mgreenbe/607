{
 "cells": [
  {
   "cell_type": "code",
   "execution_count": 2,
   "metadata": {},
   "outputs": [],
   "source": [
    "from __future__ import absolute_import, division, print_function\n",
    "import tensorflow as tf\n",
    "from tensorflow import keras\n",
    "import numpy as np\n",
    "from matplotlib import pyplot as plt"
   ]
  },
  {
   "cell_type": "code",
   "execution_count": 3,
   "metadata": {},
   "outputs": [],
   "source": []
  },
  {
   "cell_type": "code",
   "execution_count": 40,
   "metadata": {},
   "outputs": [],
   "source": [
    "(x_train, y_train), (x_test, y_test) = keras.datasets.mnist.load_data()\n",
    "x_train = x_train.reshape(len(x_train), 28, 28, 1)\n",
    "x_test = x_test.reshape(len(x_test), 28, 28, 1)\n",
    "y_train_cat = keras.utils.to_categorical(y_train)\n",
    "y_test_cat = keras.utils.to_categorical(y_test)"
   ]
  },
  {
   "cell_type": "code",
   "execution_count": 6,
   "metadata": {},
   "outputs": [],
   "source": [
    "x = x_train[0]"
   ]
  },
  {
   "cell_type": "code",
   "execution_count": 7,
   "metadata": {},
   "outputs": [
    {
     "data": {
      "text/plain": [
       "(28, 28)"
      ]
     },
     "execution_count": 7,
     "metadata": {},
     "output_type": "execute_result"
    }
   ],
   "source": [
    "x.shape"
   ]
  },
  {
   "cell_type": "code",
   "execution_count": 47,
   "metadata": {},
   "outputs": [
    {
     "name": "stdout",
     "output_type": "stream",
     "text": [
      "Model: \"sequential_19\"\n",
      "_________________________________________________________________\n",
      "Layer (type)                 Output Shape              Param #   \n",
      "=================================================================\n",
      "conv2d_31 (Conv2D)           (None, 26, 26, 6)         60        \n",
      "_________________________________________________________________\n",
      "max_pooling2d_25 (MaxPooling (None, 13, 13, 6)         0         \n",
      "_________________________________________________________________\n",
      "conv2d_32 (Conv2D)           (None, 11, 11, 10)        550       \n",
      "_________________________________________________________________\n",
      "max_pooling2d_26 (MaxPooling (None, 5, 5, 10)          0         \n",
      "_________________________________________________________________\n",
      "flatten_2 (Flatten)          (None, 250)               0         \n",
      "_________________________________________________________________\n",
      "dense_21 (Dense)             (None, 120)               30120     \n",
      "_________________________________________________________________\n",
      "dense_22 (Dense)             (None, 84)                10164     \n",
      "_________________________________________________________________\n",
      "dense_23 (Dense)             (None, 10)                850       \n",
      "=================================================================\n",
      "Total params: 41,744\n",
      "Trainable params: 41,744\n",
      "Non-trainable params: 0\n",
      "_________________________________________________________________\n",
      "Train on 60000 samples, validate on 10000 samples\n",
      "Epoch 1/20\n",
      "60000/60000 [==============================] - 11s 175us/sample - loss: 0.3759 - accuracy: 0.9218 - val_loss: 0.0961 - val_accuracy: 0.9724\n",
      "Epoch 2/20\n",
      "60000/60000 [==============================] - 10s 174us/sample - loss: 0.1001 - accuracy: 0.9716 - val_loss: 0.0748 - val_accuracy: 0.9779\n",
      "Epoch 3/20\n",
      "60000/60000 [==============================] - 11s 181us/sample - loss: 0.0793 - accuracy: 0.9791 - val_loss: 0.0907 - val_accuracy: 0.9774\n",
      "Epoch 4/20\n",
      "60000/60000 [==============================] - 11s 178us/sample - loss: 0.0737 - accuracy: 0.9811 - val_loss: 0.0881 - val_accuracy: 0.9784\n",
      "Epoch 5/20\n",
      "60000/60000 [==============================] - 11s 176us/sample - loss: 0.0662 - accuracy: 0.9829 - val_loss: 0.0989 - val_accuracy: 0.9766\n",
      "Epoch 6/20\n",
      "60000/60000 [==============================] - 10s 161us/sample - loss: 0.0650 - accuracy: 0.9837 - val_loss: 0.1208 - val_accuracy: 0.9776\n",
      "Epoch 7/20\n",
      "60000/60000 [==============================] - 10s 162us/sample - loss: 0.0629 - accuracy: 0.9842 - val_loss: 0.1022 - val_accuracy: 0.9808\n",
      "Epoch 8/20\n",
      "60000/60000 [==============================] - 9s 158us/sample - loss: 0.0641 - accuracy: 0.9843 - val_loss: 0.1058 - val_accuracy: 0.9790\n",
      "Epoch 9/20\n",
      "60000/60000 [==============================] - 10s 159us/sample - loss: 0.0669 - accuracy: 0.9837 - val_loss: 0.1883 - val_accuracy: 0.9777\n",
      "Epoch 10/20\n",
      "60000/60000 [==============================] - 10s 159us/sample - loss: 0.0685 - accuracy: 0.9842 - val_loss: 0.0999 - val_accuracy: 0.9830\n",
      "Epoch 11/20\n",
      "60000/60000 [==============================] - 10s 160us/sample - loss: 0.0719 - accuracy: 0.9826 - val_loss: 0.0877 - val_accuracy: 0.9770\n",
      "Epoch 12/20\n",
      "60000/60000 [==============================] - 10s 160us/sample - loss: 0.0842 - accuracy: 0.9821 - val_loss: 0.1380 - val_accuracy: 0.9671\n",
      "Epoch 13/20\n",
      "60000/60000 [==============================] - 10s 161us/sample - loss: 0.0730 - accuracy: 0.9836 - val_loss: 0.1018 - val_accuracy: 0.9743\n",
      "Epoch 14/20\n",
      "60000/60000 [==============================] - 10s 160us/sample - loss: 0.0768 - accuracy: 0.9834 - val_loss: 0.1070 - val_accuracy: 0.9775\n",
      "Epoch 15/20\n",
      "60000/60000 [==============================] - 10s 160us/sample - loss: 0.0769 - accuracy: 0.9827 - val_loss: 0.1239 - val_accuracy: 0.9723\n",
      "Epoch 16/20\n",
      "60000/60000 [==============================] - 10s 161us/sample - loss: 0.0767 - accuracy: 0.9829 - val_loss: 0.1332 - val_accuracy: 0.9657\n",
      "Epoch 17/20\n",
      "60000/60000 [==============================] - 10s 160us/sample - loss: 0.0761 - accuracy: 0.9842 - val_loss: 0.1418 - val_accuracy: 0.9739\n",
      "Epoch 18/20\n",
      "60000/60000 [==============================] - 10s 162us/sample - loss: 0.0793 - accuracy: 0.9834 - val_loss: 0.2245 - val_accuracy: 0.9684\n",
      "Epoch 19/20\n",
      "60000/60000 [==============================] - 10s 160us/sample - loss: 0.0818 - accuracy: 0.9832 - val_loss: 0.0893 - val_accuracy: 0.9796\n",
      "Epoch 20/20\n",
      "60000/60000 [==============================] - 8s 140us/sample - loss: 0.0838 - accuracy: 0.9829 - val_loss: 0.1045 - val_accuracy: 0.9814\n"
     ]
    },
    {
     "data": {
      "text/plain": [
       "<tensorflow.python.keras.callbacks.History at 0x1a39145b00>"
      ]
     },
     "execution_count": 47,
     "metadata": {},
     "output_type": "execute_result"
    }
   ],
   "source": [
    "model = keras.Sequential()\n",
    "model.add(keras.layers.Conv2D(6, kernel_size=(3, 3), activation='relu', input_shape=x_train[0].shape))\n",
    "model.add(keras.layers.MaxPooling2D(pool_size=(2, 2)))\n",
    "model.add(keras.layers.Conv2D(10, kernel_size=(3, 3), activation='relu'))\n",
    "model.add(keras.layers.MaxPooling2D(pool_size=(2, 2)))\n",
    "model.add(keras.layers.Flatten())\n",
    "model.add(keras.layers.Dense(120, activation=\"relu\"))\n",
    "model.add(keras.layers.Dense(84, activation=\"relu\"))\n",
    "model.add(keras.layers.Dense(10, activation=\"softmax\"))\n",
    "\n",
    "model.summary()\n",
    "model.compile(loss=\"categorical_crossentropy\", optimizer=\"rmsprop\", metrics=[\"accuracy\"])\n",
    "model.fit(x_train, y_train_cat, epochs=20, validation_data=(x_test, y_test_cat))"
   ]
  },
  {
   "cell_type": "code",
   "execution_count": 50,
   "metadata": {},
   "outputs": [],
   "source": [
    "y_p = model.predict_classes(x_test)"
   ]
  },
  {
   "cell_type": "code",
   "execution_count": 54,
   "metadata": {},
   "outputs": [
    {
     "data": {
      "text/plain": [
       "186"
      ]
     },
     "execution_count": 54,
     "metadata": {},
     "output_type": "execute_result"
    }
   ],
   "source": [
    "len(y_p[y_p != y_test])"
   ]
  },
  {
   "cell_type": "code",
   "execution_count": 55,
   "metadata": {},
   "outputs": [],
   "source": [
    "weights = model.get_weights()"
   ]
  },
  {
   "cell_type": "code",
   "execution_count": 60,
   "metadata": {},
   "outputs": [
    {
     "data": {
      "text/plain": [
       "array([ 1.0033906e+00, -3.1383565e-01,  4.0668872e-01, -8.8674290e-04,\n",
       "       -4.6411210e-01,  6.4901298e-01], dtype=float32)"
      ]
     },
     "execution_count": 60,
     "metadata": {},
     "output_type": "execute_result"
    }
   ],
   "source": [
    "weights[1]"
   ]
  },
  {
   "cell_type": "code",
   "execution_count": 61,
   "metadata": {},
   "outputs": [],
   "source": [
    "partial_model = keras.Sequential()\n",
    "partial_model.add(keras.layers.Conv2D(6, kernel_size=(3, 3), activation='relu', input_shape=x_train[0].shape))\n",
    "partial_model.set_weights(weights[:2])"
   ]
  },
  {
   "cell_type": "code",
   "execution_count": 62,
   "metadata": {},
   "outputs": [],
   "source": [
    "Y = partial_model.predict(x_test)"
   ]
  },
  {
   "cell_type": "code",
   "execution_count": 69,
   "metadata": {},
   "outputs": [
    {
     "data": {
      "image/png": "[encoded data removed]",
      "text/plain": [
       "<Figure size 432x288 with 1 Axes>"
      ]
     },
     "metadata": {},
     "output_type": "display_data"
    }
   ],
   "source": [
    "plt.imshow(x_test[0, :, :, 0])\n",
    "plt.show()"
   ]
  },
  {
   "cell_type": "code",
   "execution_count": 70,
   "metadata": {},
   "outputs": [
    {
     "data": {
      "image/png": "[encoded data removed]",
      "text/plain": [
       "<Figure size 432x288 with 1 Axes>"
      ]
     },
     "metadata": {},
     "output_type": "display_data"
    },
    {
     "data": {
      "image/png": "[encoded data removed]",
      "text/plain": [
       "<Figure size 432x288 with 1 Axes>"
      ]
     },
     "metadata": {},
     "output_type": "display_data"
    },
    {
     "data": {
      "image/png": "[encoded data removed]",
      "text/plain": [
       "<Figure size 432x288 with 1 Axes>"
      ]
     },
     "metadata": {},
     "output_type": "display_data"
    },
    {
     "data": {
      "image/png": "[encoded data removed]",
      "text/plain": [
       "<Figure size 432x288 with 1 Axes>"
      ]
     },
     "metadata": {},
     "output_type": "display_data"
    },
    {
     "data": {
      "image/png": "[encoded data removed]",
      "text/plain": [
       "<Figure size 432x288 with 1 Axes>"
      ]
     },
     "metadata": {},
     "output_type": "display_data"
    },
    {
     "data": {
      "image/png": "[encoded data removed]",
      "text/plain": [
       "<Figure size 432x288 with 1 Axes>"
      ]
     },
     "metadata": {},
     "output_type": "display_data"
    }
   ],
   "source": [
    "for f in range(6):\n",
    "    plt.imshow(Y[0, :, :, f])\n",
    "    plt.show()"
   ]
  },
  {
   "cell_type": "code",
   "execution_count": 68,
   "metadata": {},
   "outputs": [
    {
     "data": {
      "text/plain": [
       "(28, 28, 1)"
      ]
     },
     "execution_count": 68,
     "metadata": {},
     "output_type": "execute_result"
    }
   ],
   "source": [
    "x_test[0].shape"
   ]
  },
  {
   "cell_type": "code",
   "execution_count": null,
   "metadata": {},
   "outputs": [],
   "source": []
  }
 ],
 "metadata": {
  "kernelspec": {
   "display_name": "Python 3",
   "language": "python",
   "name": "python3"
  },
  "language_info": {
   "codemirror_mode": {
    "name": "ipython",
    "version": 3
   },
   "file_extension": ".py",
   "mimetype": "text/x-python",
   "name": "python",
   "nbconvert_exporter": "python",
   "pygments_lexer": "ipython3",
   "version": "3.6.5"
  }
 },
 "nbformat": 4,
 "nbformat_minor": 2
}
