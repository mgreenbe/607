{
 "cells": [
  {
   "cell_type": "markdown",
   "metadata": {},
   "source": [
    "## Handwritten digit classification with convolutional neural networks"
   ]
  },
  {
   "cell_type": "code",
   "execution_count": 1,
   "metadata": {},
   "outputs": [],
   "source": [
    "from __future__ import absolute_import, division, print_function\n",
    "import tensorflow as tf\n",
    "from tensorflow import keras\n",
    "import numpy as np\n",
    "from matplotlib import pyplot as plt"
   ]
  },
  {
   "cell_type": "code",
   "execution_count": 2,
   "metadata": {},
   "outputs": [],
   "source": [
    "(x_train, y_train), (x_test, y_test) = keras.datasets.mnist.load_data()\n",
    "x_train = x_train.reshape(len(x_train), 28, 28, 1)\n",
    "x_test = x_test.reshape(len(x_test), 28, 28, 1)\n",
    "y_train_cat = keras.utils.to_categorical(y_train)\n",
    "y_test_cat = keras.utils.to_categorical(y_test)"
   ]
  },
  {
   "cell_type": "code",
   "execution_count": 6,
   "metadata": {},
   "outputs": [
    {
     "data": {
      "text/plain": [
       "<matplotlib.image.AxesImage at 0xb32054e48>"
      ]
     },
     "execution_count": 6,
     "metadata": {},
     "output_type": "execute_result"
    },
    {
     "data": {
      "image/png": "[encoded data removed]",
      "text/plain": [
       "<Figure size 432x288 with 1 Axes>"
      ]
     },
     "metadata": {},
     "output_type": "display_data"
    }
   ],
   "source": [
    "plt.imshow(x_train[1].reshape(28, 28))"
   ]
  },
  {
   "cell_type": "code",
   "execution_count": 25,
   "metadata": {},
   "outputs": [],
   "source": [
    "model = keras.Sequential()\n",
    "model.add(keras.layers.Conv2D(6, kernel_size=(3, 3), input_shape=(28, 28, 1), activation=\"relu\"))\n",
    "model.add(keras.layers.MaxPool2D(pool_size=(2, 2)))\n",
    "model.add(keras.layers.Conv2D(10, kernel_size=(3, 3), activation=\"relu\"))\n",
    "model.add(keras.layers.MaxPool2D(pool_size=(2, 2)))\n",
    "model.add(keras.layers.Flatten())\n",
    "model.add(keras.layers.Dense(128, activation=\"relu\"))\n",
    "model.add(keras.layers.Dense(64, activation=\"relu\"))\n",
    "model.add(keras.layers.Dense(10, activation=\"softmax\"))\n",
    "\n",
    "\n",
    "# 6 = # filters\n",
    "# (3, 3) dimensions of filter (kernel) matrix\n",
    "# each kernel has a bias!"
   ]
  },
  {
   "cell_type": "code",
   "execution_count": 26,
   "metadata": {},
   "outputs": [
    {
     "name": "stdout",
     "output_type": "stream",
     "text": [
      "Model: \"sequential_11\"\n",
      "_________________________________________________________________\n",
      "Layer (type)                 Output Shape              Param #   \n",
      "=================================================================\n",
      "conv2d_15 (Conv2D)           (None, 26, 26, 6)         60        \n",
      "_________________________________________________________________\n",
      "max_pooling2d_11 (MaxPooling (None, 13, 13, 6)         0         \n",
      "_________________________________________________________________\n",
      "conv2d_16 (Conv2D)           (None, 11, 11, 10)        550       \n",
      "_________________________________________________________________\n",
      "max_pooling2d_12 (MaxPooling (None, 5, 5, 10)          0         \n",
      "_________________________________________________________________\n",
      "flatten_2 (Flatten)          (None, 250)               0         \n",
      "_________________________________________________________________\n",
      "dense_6 (Dense)              (None, 128)               32128     \n",
      "_________________________________________________________________\n",
      "dense_7 (Dense)              (None, 64)                8256      \n",
      "_________________________________________________________________\n",
      "dense_8 (Dense)              (None, 10)                650       \n",
      "=================================================================\n",
      "Total params: 41,644\n",
      "Trainable params: 41,644\n",
      "Non-trainable params: 0\n",
      "_________________________________________________________________\n"
     ]
    }
   ],
   "source": [
    "model.summary()"
   ]
  },
  {
   "cell_type": "code",
   "execution_count": 28,
   "metadata": {},
   "outputs": [
    {
     "name": "stdout",
     "output_type": "stream",
     "text": [
      "Train on 60000 samples, validate on 10000 samples\n",
      "Epoch 1/20\n",
      "60000/60000 [==============================] - 8s 141us/sample - loss: 0.4575 - accuracy: 0.9226 - val_loss: 0.1194 - val_accuracy: 0.9674\n",
      "Epoch 2/20\n",
      "60000/60000 [==============================] - 8s 138us/sample - loss: 0.1117 - accuracy: 0.9702 - val_loss: 0.0859 - val_accuracy: 0.9742\n",
      "Epoch 3/20\n",
      "60000/60000 [==============================] - 8s 138us/sample - loss: 0.0931 - accuracy: 0.9754 - val_loss: 0.1009 - val_accuracy: 0.9764\n",
      "Epoch 4/20\n",
      "60000/60000 [==============================] - 8s 141us/sample - loss: 0.0876 - accuracy: 0.9783 - val_loss: 0.0848 - val_accuracy: 0.9778\n",
      "Epoch 5/20\n",
      "60000/60000 [==============================] - 8s 141us/sample - loss: 0.0863 - accuracy: 0.9790 - val_loss: 0.0851 - val_accuracy: 0.9766\n",
      "Epoch 6/20\n",
      "60000/60000 [==============================] - 8s 138us/sample - loss: 0.0865 - accuracy: 0.9785 - val_loss: 0.1456 - val_accuracy: 0.9628\n",
      "Epoch 7/20\n",
      "60000/60000 [==============================] - 8s 138us/sample - loss: 0.0877 - accuracy: 0.9786 - val_loss: 0.0677 - val_accuracy: 0.9805\n",
      "Epoch 8/20\n",
      "60000/60000 [==============================] - 8s 137us/sample - loss: 0.0884 - accuracy: 0.9790 - val_loss: 0.1386 - val_accuracy: 0.9721\n",
      "Epoch 9/20\n",
      "60000/60000 [==============================] - 8s 138us/sample - loss: 0.0936 - accuracy: 0.9782 - val_loss: 0.0944 - val_accuracy: 0.9781\n",
      "Epoch 10/20\n",
      "60000/60000 [==============================] - 8s 140us/sample - loss: 0.0937 - accuracy: 0.9786 - val_loss: 0.0919 - val_accuracy: 0.9791\n",
      "Epoch 11/20\n",
      "60000/60000 [==============================] - 8s 138us/sample - loss: 0.0910 - accuracy: 0.9786 - val_loss: 0.0854 - val_accuracy: 0.9795\n",
      "Epoch 12/20\n",
      "60000/60000 [==============================] - 9s 145us/sample - loss: 0.0959 - accuracy: 0.9785 - val_loss: 0.0907 - val_accuracy: 0.9783\n",
      "Epoch 13/20\n",
      "60000/60000 [==============================] - 9s 147us/sample - loss: 0.1021 - accuracy: 0.9793 - val_loss: 0.1339 - val_accuracy: 0.9751\n",
      "Epoch 14/20\n",
      "60000/60000 [==============================] - 9s 143us/sample - loss: 0.0932 - accuracy: 0.9783 - val_loss: 0.0718 - val_accuracy: 0.9805\n",
      "Epoch 15/20\n",
      "60000/60000 [==============================] - 9s 146us/sample - loss: 0.0931 - accuracy: 0.9792 - val_loss: 0.1304 - val_accuracy: 0.9779\n",
      "Epoch 16/20\n",
      "60000/60000 [==============================] - 8s 137us/sample - loss: 0.0999 - accuracy: 0.9783 - val_loss: 0.1009 - val_accuracy: 0.9749\n",
      "Epoch 17/20\n",
      "60000/60000 [==============================] - 8s 137us/sample - loss: 0.0982 - accuracy: 0.9784 - val_loss: 0.1398 - val_accuracy: 0.9597\n",
      "Epoch 18/20\n",
      "60000/60000 [==============================] - 8s 139us/sample - loss: 0.1020 - accuracy: 0.9779 - val_loss: 0.0915 - val_accuracy: 0.9757\n",
      "Epoch 19/20\n",
      "60000/60000 [==============================] - 8s 139us/sample - loss: 0.0969 - accuracy: 0.9780 - val_loss: 0.1039 - val_accuracy: 0.9679\n",
      "Epoch 20/20\n",
      "60000/60000 [==============================] - 9s 144us/sample - loss: 0.1000 - accuracy: 0.9760 - val_loss: 0.1067 - val_accuracy: 0.9773\n"
     ]
    },
    {
     "data": {
      "text/plain": [
       "<tensorflow.python.keras.callbacks.History at 0xb32480c18>"
      ]
     },
     "execution_count": 28,
     "metadata": {},
     "output_type": "execute_result"
    }
   ],
   "source": [
    "model.compile(loss=\"categorical_crossentropy\", optimizer=\"rmsprop\", metrics=[\"accuracy\"])\n",
    "model.fit(x_train, y_train_cat, validation_data=(x_test, y_test_cat), epochs=20)"
   ]
  },
  {
   "cell_type": "code",
   "execution_count": 55,
   "metadata": {},
   "outputs": [],
   "source": [
    "partial_model = keras.Sequential()\n",
    "partial_model.add(keras.layers.Conv2D(6, kernel_size=(3, 3), input_shape=(28, 28, 1), activation=\"relu\"))\n",
    "partial_model.add(keras.layers.MaxPool2D(pool_size=(2, 2)))\n",
    "partial_model.add(keras.layers.Conv2D(10, kernel_size=(3, 3), activation=\"relu\"))"
   ]
  },
  {
   "cell_type": "code",
   "execution_count": 56,
   "metadata": {},
   "outputs": [],
   "source": [
    "weights = model.get_weights()\n",
    "partial_weights = weights[:4]\n",
    "partial_model.set_weights(partial_weights)"
   ]
  },
  {
   "cell_type": "code",
   "execution_count": 57,
   "metadata": {},
   "outputs": [],
   "source": [
    "x = x_test[35]"
   ]
  },
  {
   "cell_type": "code",
   "execution_count": 58,
   "metadata": {},
   "outputs": [
    {
     "data": {
      "image/png": "[encoded data removed]",
      "text/plain": [
       "<Figure size 432x288 with 1 Axes>"
      ]
     },
     "metadata": {},
     "output_type": "display_data"
    }
   ],
   "source": [
    "plt.imshow(x.reshape(28, 28))\n",
    "plt.show()"
   ]
  },
  {
   "cell_type": "code",
   "execution_count": 59,
   "metadata": {},
   "outputs": [],
   "source": [
    "z = partial_model.predict(x.reshape(1,28,28,1))"
   ]
  },
  {
   "cell_type": "code",
   "execution_count": 60,
   "metadata": {},
   "outputs": [
    {
     "data": {
      "text/plain": [
       "(1, 11, 11, 10)"
      ]
     },
     "execution_count": 60,
     "metadata": {},
     "output_type": "execute_result"
    }
   ],
   "source": [
    "z.shape"
   ]
  },
  {
   "cell_type": "code",
   "execution_count": 61,
   "metadata": {},
   "outputs": [
    {
     "data": {
      "image/png": "[encoded data removed]",
      "text/plain": [
       "<Figure size 432x288 with 1 Axes>"
      ]
     },
     "metadata": {},
     "output_type": "display_data"
    },
    {
     "data": {
      "image/png": "[encoded data removed]",
      "text/plain": [
       "<Figure size 432x288 with 1 Axes>"
      ]
     },
     "metadata": {},
     "output_type": "display_data"
    },
    {
     "data": {
      "image/png": "[encoded data removed]",
      "text/plain": [
       "<Figure size 432x288 with 1 Axes>"
      ]
     },
     "metadata": {},
     "output_type": "display_data"
    },
    {
     "data": {
      "image/png": "[encoded data removed]",
      "text/plain": [
       "<Figure size 432x288 with 1 Axes>"
      ]
     },
     "metadata": {},
     "output_type": "display_data"
    },
    {
     "data": {
      "image/png": "[encoded data removed]",
      "text/plain": [
       "<Figure size 432x288 with 1 Axes>"
      ]
     },
     "metadata": {},
     "output_type": "display_data"
    },
    {
     "data": {
      "image/png": "[encoded data removed]",
      "text/plain": [
       "<Figure size 432x288 with 1 Axes>"
      ]
     },
     "metadata": {},
     "output_type": "display_data"
    },
    {
     "data": {
      "image/png": "[encoded data removed]",
      "text/plain": [
       "<Figure size 432x288 with 1 Axes>"
      ]
     },
     "metadata": {},
     "output_type": "display_data"
    },
    {
     "data": {
      "image/png": "[encoded data removed]",
      "text/plain": [
       "<Figure size 432x288 with 1 Axes>"
      ]
     },
     "metadata": {},
     "output_type": "display_data"
    },
    {
     "data": {
      "image/png": "[encoded data removed]",
      "text/plain": [
       "<Figure size 432x288 with 1 Axes>"
      ]
     },
     "metadata": {},
     "output_type": "display_data"
    },
    {
     "data": {
      "image/png": "[encoded data removed]",
      "text/plain": [
       "<Figure size 432x288 with 1 Axes>"
      ]
     },
     "metadata": {},
     "output_type": "display_data"
    }
   ],
   "source": [
    "for i in range(10):\n",
    "    img = z[0,:, :, i]\n",
    "    plt.imshow(img)\n",
    "    plt.show()"
   ]
  },
  {
   "cell_type": "code",
   "execution_count": 53,
   "metadata": {},
   "outputs": [
    {
     "data": {
      "text/plain": [
       "array([[[[ 9.04736575e-03, -4.36567329e-02,  6.07561395e-02,\n",
       "           1.78406853e-02,  6.96980953e-02, -7.16224313e-02,\n",
       "           1.01598874e-02,  2.09477302e-02,  1.06110580e-01,\n",
       "           2.00732648e-02],\n",
       "         [ 3.36394049e-02, -4.20991657e-03, -1.22190593e-02,\n",
       "           2.63177991e-01,  6.47286186e-03, -3.44959497e-02,\n",
       "          -1.24146063e-02,  5.07488959e-02, -2.15752333e-01,\n",
       "          -6.40954450e-02],\n",
       "         [ 1.68237746e-01, -1.59112513e-02,  2.92206407e-01,\n",
       "           2.26954222e-02,  3.41877490e-01,  2.38765523e-01,\n",
       "           1.59264609e-01,  6.93756342e-02,  4.39637363e-01,\n",
       "           2.86522368e-03],\n",
       "         [ 6.57878667e-02,  8.18939731e-02,  1.88868884e-02,\n",
       "          -3.06941897e-01,  1.22933894e-01, -1.38372555e-01,\n",
       "           1.11097224e-01,  2.15199739e-01, -8.87043327e-02,\n",
       "           2.08767608e-01],\n",
       "         [-9.03876573e-02,  9.93769616e-04, -2.42052972e-01,\n",
       "           5.47889248e-02,  1.50524452e-01, -6.24563619e-02,\n",
       "           7.23322108e-02,  9.60217193e-02, -3.50358849e-03,\n",
       "           2.26244330e-03],\n",
       "         [-1.81570482e-02, -1.55545592e-01,  4.37961183e-02,\n",
       "          -1.97348878e-01, -6.78597763e-02, -1.95609197e-01,\n",
       "           3.72811779e-02,  1.61725208e-01,  2.39948966e-02,\n",
       "           7.38401264e-02]],\n",
       "\n",
       "        [[-5.81681877e-02,  8.77025649e-02, -1.58535466e-01,\n",
       "           8.58415738e-02,  3.50770131e-02,  4.01944220e-02,\n",
       "           7.89844021e-02,  6.83856308e-02,  9.90045071e-02,\n",
       "          -8.39369148e-02],\n",
       "         [ 3.49047706e-02, -8.51948932e-03, -1.51552618e-01,\n",
       "           1.25929579e-01, -7.60489330e-02, -1.02219783e-01,\n",
       "          -1.18084721e-01, -1.39055438e-02, -2.29808643e-01,\n",
       "          -5.63105419e-02],\n",
       "         [ 1.63204670e-01, -1.36486113e-01,  5.77923134e-02,\n",
       "           6.70847818e-02, -1.65132388e-01,  1.51609004e-01,\n",
       "           1.01438679e-01,  2.90578574e-01,  1.44584537e-01,\n",
       "           1.78098287e-02],\n",
       "         [ 1.77039653e-01, -1.58631112e-02,  1.65206090e-01,\n",
       "          -6.27476051e-02, -9.03883055e-02, -5.33103980e-02,\n",
       "           2.99213436e-02,  1.88316733e-01,  1.74346074e-01,\n",
       "          -5.44952927e-03],\n",
       "         [-4.57315147e-02, -3.37475128e-02, -1.62285790e-01,\n",
       "           1.43434550e-03, -5.44896983e-02, -5.18338308e-02,\n",
       "          -1.59095041e-02,  4.33217883e-02, -1.00867286e-01,\n",
       "           2.43273228e-02],\n",
       "         [-2.93912500e-01,  7.81072900e-02,  1.63348675e-01,\n",
       "          -4.38883938e-02,  1.28061399e-01, -4.76254113e-02,\n",
       "           5.58364354e-02,  1.28141493e-01, -2.97559649e-02,\n",
       "          -1.73372403e-01]],\n",
       "\n",
       "        [[-1.00765452e-02,  1.95568074e-02, -1.08253695e-02,\n",
       "           4.30864133e-02, -6.00744188e-02,  4.38383967e-02,\n",
       "          -5.95322102e-02, -5.47273308e-02,  1.01350196e-01,\n",
       "           2.86425482e-02],\n",
       "         [-4.29272056e-02,  5.63412644e-02, -6.59056157e-02,\n",
       "          -9.00564715e-03, -1.05753355e-01, -2.20136680e-02,\n",
       "           5.30302897e-02, -6.21727481e-02, -1.31075636e-01,\n",
       "           1.38487384e-01],\n",
       "         [ 2.13377587e-02, -6.38251081e-02, -4.69880253e-02,\n",
       "           7.53627494e-02,  2.38300204e-01,  1.37435392e-01,\n",
       "           6.04394227e-02, -6.59501031e-02,  1.07902013e-01,\n",
       "           1.97522387e-01],\n",
       "         [ 1.49792254e-01, -5.35134450e-02, -1.36801913e-01,\n",
       "          -1.11084627e-02,  5.73786050e-02,  1.37063012e-01,\n",
       "           1.88554168e-01,  2.88694233e-01,  9.68223214e-02,\n",
       "           4.61756065e-02],\n",
       "         [-1.46655798e-01, -1.30489385e-02,  9.90754738e-02,\n",
       "           9.71461013e-02,  1.61689054e-02,  2.49305386e-02,\n",
       "           3.71043570e-04, -4.37708274e-02,  5.30324765e-02,\n",
       "           7.63192549e-02],\n",
       "         [ 2.40174174e-01,  2.25892514e-02,  3.84429395e-02,\n",
       "          -2.29291067e-01,  4.25945669e-02, -1.70778722e-01,\n",
       "          -1.13706909e-01,  1.59910709e-01,  3.41298789e-01,\n",
       "          -4.81287241e-01]]],\n",
       "\n",
       "\n",
       "       [[[-4.64643631e-03, -1.00926258e-01,  9.79154706e-02,\n",
       "          -8.52153525e-02,  1.21906614e-02, -8.92141089e-02,\n",
       "          -4.65014800e-02, -3.33031714e-02,  1.66736200e-01,\n",
       "           6.04351461e-02],\n",
       "         [ 5.21411523e-02,  9.61501151e-03, -1.05175510e-01,\n",
       "           1.00147985e-01, -1.16752975e-01,  6.82962984e-02,\n",
       "           9.77245532e-03, -6.19195076e-03,  1.14577997e-03,\n",
       "          -1.37436017e-01],\n",
       "         [-2.29819445e-03,  4.46114242e-02,  2.30224386e-01,\n",
       "           7.67224357e-02,  2.42138758e-01,  2.82804370e-01,\n",
       "           1.46800550e-02,  1.56374812e-01,  2.66006798e-01,\n",
       "           3.11541677e-01],\n",
       "         [ 1.76241577e-01,  6.11417985e-04,  2.07753301e-01,\n",
       "           4.47139777e-02, -2.64336675e-01,  3.66066359e-02,\n",
       "          -9.92380604e-02, -1.67892694e-01,  1.49674952e-01,\n",
       "           4.93888333e-02],\n",
       "         [-1.02959462e-01,  4.42315750e-02, -1.43621609e-01,\n",
       "           1.52831137e-01,  4.93741296e-02, -1.70503929e-01,\n",
       "           5.70156313e-02,  5.41213080e-02, -1.64085433e-01,\n",
       "           4.58486751e-02],\n",
       "         [ 8.00933763e-02, -3.00526917e-01, -1.81332640e-02,\n",
       "          -2.41546780e-01,  6.45480826e-02,  1.49706453e-01,\n",
       "          -2.62417078e-01, -3.38323042e-02,  1.96984842e-01,\n",
       "          -8.98011588e-03]],\n",
       "\n",
       "        [[-1.36850197e-02,  6.47556856e-02,  2.77203415e-02,\n",
       "           2.65616309e-02, -4.19410206e-02, -6.90591931e-02,\n",
       "           2.29491889e-02, -1.59656227e-01,  6.19638078e-02,\n",
       "           3.59984674e-02],\n",
       "         [ 8.68126228e-02, -3.17110419e-02, -8.80247876e-02,\n",
       "          -4.96941432e-02, -1.12727441e-01,  5.10128252e-02,\n",
       "          -1.86688423e-01, -2.73071826e-01, -3.15838642e-02,\n",
       "          -3.10405120e-02],\n",
       "         [-4.81068455e-02, -1.74128443e-01,  3.03804446e-02,\n",
       "           2.64057845e-01, -2.21326202e-02,  2.66942263e-01,\n",
       "           8.02141950e-02,  2.49038190e-01,  1.72919050e-01,\n",
       "           8.83709788e-02],\n",
       "         [-9.60476696e-02,  3.40817831e-02,  8.43867138e-02,\n",
       "          -7.69971013e-02, -6.37021810e-02, -8.65790024e-02,\n",
       "           1.06631406e-01, -6.62304088e-02,  1.50595099e-01,\n",
       "          -2.22864360e-01],\n",
       "         [-2.12864354e-02,  7.45166168e-02,  3.48568000e-02,\n",
       "           9.95011106e-02, -2.31811330e-01, -1.79667875e-01,\n",
       "          -2.53250480e-01,  1.17870741e-01, -1.51251659e-01,\n",
       "           9.35914814e-02],\n",
       "         [-1.60813212e-01, -2.62579136e-02,  1.00008003e-01,\n",
       "          -3.64182115e-01, -3.33605260e-02,  8.53305012e-02,\n",
       "           9.82164070e-02, -1.30485862e-01, -2.78660804e-02,\n",
       "           2.33636200e-02]],\n",
       "\n",
       "        [[ 7.08263889e-02,  1.06146313e-01,  6.07984047e-03,\n",
       "           2.04977170e-01, -2.18033791e-02, -4.43092957e-02,\n",
       "          -4.03222628e-02,  7.58508518e-02, -4.93917204e-02,\n",
       "          -1.56512737e-01],\n",
       "         [-6.87307939e-02,  7.07488433e-02,  3.67173702e-02,\n",
       "           1.45521969e-01, -1.74024026e-04, -9.31111500e-02,\n",
       "          -6.39044195e-02, -3.54234904e-01, -7.81607032e-02,\n",
       "          -1.05898194e-01],\n",
       "         [-1.55542016e-01, -2.21619219e-01,  4.99394536e-02,\n",
       "           2.69704938e-01, -1.89270422e-01,  1.47544011e-01,\n",
       "          -5.81942499e-02,  9.65022296e-03,  1.99405655e-01,\n",
       "          -1.67614803e-01],\n",
       "         [ 1.87804386e-01, -3.28442335e-01,  1.53235316e-01,\n",
       "           1.50841540e-02, -8.25380310e-02, -1.70292184e-01,\n",
       "           2.09487423e-01,  5.35428934e-02,  8.13641921e-02,\n",
       "          -2.00057745e-01],\n",
       "         [-1.23266257e-01,  2.01452384e-03, -1.76859096e-01,\n",
       "           7.92694762e-02, -3.19005549e-01, -4.21564355e-02,\n",
       "           1.67005554e-01, -7.45176449e-02,  8.25496018e-03,\n",
       "           3.19530517e-02],\n",
       "         [ 7.27345496e-02,  3.66003625e-02,  3.14052813e-02,\n",
       "          -2.33197749e-01,  5.49834743e-02, -3.94131243e-01,\n",
       "          -2.35946342e-01,  1.28705308e-01,  3.39581147e-02,\n",
       "           1.43748835e-01]]],\n",
       "\n",
       "\n",
       "       [[[ 6.36971444e-02, -6.31466135e-02,  8.05257168e-03,\n",
       "           1.39766401e-02,  6.90995082e-02, -1.38278417e-02,\n",
       "          -3.91872646e-03,  2.22168714e-02,  2.21971087e-02,\n",
       "          -2.34530345e-02],\n",
       "         [ 4.53308634e-02,  3.01388409e-02, -3.44783217e-02,\n",
       "           1.27556631e-02, -1.11323940e-02,  5.28255589e-02,\n",
       "           6.47906289e-02, -2.34811734e-02,  1.09999459e-02,\n",
       "           3.05261668e-02],\n",
       "         [-2.17828169e-01,  2.79272497e-01, -6.91347048e-02,\n",
       "           2.43674979e-01,  9.31479558e-02,  3.30820531e-02,\n",
       "           2.86336839e-01,  2.72640675e-01,  1.32444039e-01,\n",
       "           1.60576701e-01],\n",
       "         [-4.18220460e-02, -2.03105807e-01,  9.33798254e-02,\n",
       "           1.60997868e-01,  1.51667343e-02,  1.87055260e-01,\n",
       "           6.46280274e-02,  2.65200622e-02,  1.35043964e-01,\n",
       "          -5.02271345e-03],\n",
       "         [-1.99935790e-02, -8.40879604e-02, -3.33589315e-03,\n",
       "           3.08491051e-01, -4.71003242e-02, -6.26985878e-02,\n",
       "           1.18168645e-01, -7.13377446e-02, -2.46257149e-02,\n",
       "          -1.54067846e-02],\n",
       "         [ 6.98986351e-02,  1.05676748e-01,  4.82362136e-02,\n",
       "          -3.95571850e-02,  9.99682173e-02, -4.60100211e-02,\n",
       "          -1.62581168e-02,  1.10716186e-01,  1.08614750e-01,\n",
       "           1.99088100e-02]],\n",
       "\n",
       "        [[ 3.84109356e-02, -1.58504367e-01, -1.76578783e-03,\n",
       "           1.67575985e-01, -3.40706459e-03,  5.98746985e-02,\n",
       "          -1.92426350e-02, -8.11059624e-02,  1.13157645e-01,\n",
       "           7.33932182e-02],\n",
       "         [-1.46461397e-01, -2.92570591e-02, -1.04306169e-01,\n",
       "           5.13676368e-03,  3.35269906e-02,  2.86951521e-03,\n",
       "           6.80228025e-02,  3.37621979e-02,  7.40256980e-02,\n",
       "           3.71111669e-02],\n",
       "         [ 5.20677753e-02,  1.95284635e-01,  7.06893876e-02,\n",
       "           3.12283605e-01, -2.68715657e-02,  1.66885272e-01,\n",
       "           2.31215373e-01, -1.97854266e-03,  1.86950117e-01,\n",
       "          -1.65681243e-01],\n",
       "         [-6.43073842e-02, -1.64792180e-01, -3.90273780e-02,\n",
       "           7.75329024e-02, -1.84282720e-01,  3.28853548e-01,\n",
       "           7.39348456e-02, -1.78029761e-01,  1.84138154e-03,\n",
       "           3.64701785e-02],\n",
       "         [ 4.31683324e-02, -8.77757072e-02,  9.18720663e-02,\n",
       "           4.50958014e-02, -3.83606404e-02, -2.07109805e-02,\n",
       "          -1.40258431e-01,  1.40709160e-02, -1.02735043e-01,\n",
       "          -9.38912109e-02],\n",
       "         [ 2.80948095e-02,  4.54357639e-02, -1.24925613e-01,\n",
       "          -1.24221727e-01,  1.86912660e-02,  3.15870166e-01,\n",
       "          -4.04273272e-02,  6.41605258e-02, -1.23770215e-01,\n",
       "           1.46493644e-01]],\n",
       "\n",
       "        [[ 3.75174321e-02, -1.33699924e-01, -2.14791838e-02,\n",
       "           2.29042977e-01,  8.12627971e-02, -1.49797658e-02,\n",
       "          -4.53742826e-03, -3.38666290e-02,  1.52203813e-02,\n",
       "           4.75473367e-02],\n",
       "         [-8.77699852e-02, -1.52387768e-01, -2.93031503e-02,\n",
       "           1.56470686e-01,  8.52183104e-02,  3.25267985e-02,\n",
       "          -2.84874644e-02, -1.92262337e-01, -1.03874564e-01,\n",
       "           2.20716912e-02],\n",
       "         [ 1.92850083e-01, -8.06555152e-02,  2.48581953e-02,\n",
       "           2.25332960e-01, -1.11111328e-02,  8.70426819e-02,\n",
       "           1.05682544e-01,  2.17109635e-01,  1.49720162e-01,\n",
       "          -2.70673841e-01],\n",
       "         [ 6.55728430e-02, -3.61196697e-02,  9.25519466e-02,\n",
       "          -4.62405711e-01, -1.85242295e-01, -1.39076903e-01,\n",
       "           1.33554190e-01,  2.18723744e-01,  2.06839480e-02,\n",
       "           1.80400923e-01],\n",
       "         [-7.80818537e-02, -2.20656060e-02, -2.45187193e-01,\n",
       "          -1.69841256e-02,  6.35855570e-02, -2.79564206e-02,\n",
       "          -4.80390415e-02, -1.57298028e-01, -1.17523991e-01,\n",
       "          -4.37890738e-02],\n",
       "         [ 1.23960793e-01,  4.41539586e-02,  7.19138384e-02,\n",
       "           6.88642710e-02,  1.18892407e-02, -3.66009027e-02,\n",
       "          -3.73911671e-02, -2.13939399e-01, -3.92227359e-02,\n",
       "           8.01660344e-02]]]], dtype=float32)"
      ]
     },
     "execution_count": 53,
     "metadata": {},
     "output_type": "execute_result"
    }
   ],
   "source": [
    "weights[2]"
   ]
  },
  {
   "cell_type": "code",
   "execution_count": null,
   "metadata": {},
   "outputs": [],
   "source": []
  }
 ],
 "metadata": {
  "kernelspec": {
   "display_name": "Python 3",
   "language": "python",
   "name": "python3"
  },
  "language_info": {
   "codemirror_mode": {
    "name": "ipython",
    "version": 3
   },
   "file_extension": ".py",
   "mimetype": "text/x-python",
   "name": "python",
   "nbconvert_exporter": "python",
   "pygments_lexer": "ipython3",
   "version": "3.6.5"
  }
 },
 "nbformat": 4,
 "nbformat_minor": 2
}
