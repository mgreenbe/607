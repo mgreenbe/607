{
 "cells": [
  {
   "cell_type": "markdown",
   "metadata": {},
   "source": [
    "## CIFAR-10"
   ]
  },
  {
   "cell_type": "code",
   "execution_count": 24,
   "metadata": {},
   "outputs": [],
   "source": [
    "import tensorflow as tf\n",
    "from tensorflow.keras import Sequential\n",
    "from tensorflow.keras.layers import Dense, Conv2D, Dropout, MaxPooling2D, Flatten\n",
    "from tensorflow.keras.datasets import cifar10\n",
    "import numpy as np\n",
    "from matplotlib import pyplot as plt"
   ]
  },
  {
   "cell_type": "code",
   "execution_count": 25,
   "metadata": {},
   "outputs": [
    {
     "name": "stdout",
     "output_type": "stream",
     "text": [
      "x_train shape: (50000, 32, 32, 3)\n",
      "50000 train samples\n",
      "10000 test samples\n"
     ]
    }
   ],
   "source": [
    "(x_train, y_train), (x_test, y_test) = cifar10.load_data()\n",
    "print('x_train shape:', x_train.shape)\n",
    "print(x_train.shape[0], 'train samples')\n",
    "print(x_test.shape[0], 'test samples')"
   ]
  },
  {
   "cell_type": "code",
   "execution_count": 26,
   "metadata": {},
   "outputs": [
    {
     "data": {
      "text/plain": [
       "array([0, 1, 2, 3, 4, 5, 6, 7, 8, 9], dtype=uint8)"
      ]
     },
     "execution_count": 26,
     "metadata": {},
     "output_type": "execute_result"
    }
   ],
   "source": [
    "np.unique(y_train)"
   ]
  },
  {
   "cell_type": "code",
   "execution_count": 29,
   "metadata": {},
   "outputs": [],
   "source": [
    "model = Sequential()\n",
    "model.add(Conv2D(32, (3, 3), padding='same', input_shape=(32, 32, 3), activation=\"relu\"))\n",
    "model.add(MaxPooling2D(pool_size=(2, 2)))\n",
    "model.add(Conv2D(32, (3, 3), padding='same', activation=\"relu\"))\n",
    "model.add(MaxPool2D(pool_size=(2, 2)))\n",
    "model.add(Dropout(0.25))\n",
    "\n",
    "model.add(Conv2D(64, (3, 3), padding='same', activation=\"relu\"))\n",
    "model.add(MaxPooling2D(pool_size=(2, 2)))\n",
    "model.add(Conv2D(64, (3, 3), padding=\"same\", activation=\"relu\"))\n",
    "model.add(MaxPool2D(pool_size=(2, 2)))\n",
    "model.add(Dropout(0.25))\n",
    "\n",
    "model.add(Flatten())\n",
    "model.add(Dense(512, activation=\"relu\"))\n",
    "model.add(Dropout(0.5))\n",
    "model.add(Dense(10, activation=\"softmax\"))"
   ]
  },
  {
   "cell_type": "code",
   "execution_count": 30,
   "metadata": {},
   "outputs": [
    {
     "name": "stdout",
     "output_type": "stream",
     "text": [
      "Model: \"sequential_8\"\n",
      "_________________________________________________________________\n",
      "Layer (type)                 Output Shape              Param #   \n",
      "=================================================================\n",
      "conv2d_28 (Conv2D)           (None, 32, 32, 32)        896       \n",
      "_________________________________________________________________\n",
      "max_pooling2d_24 (MaxPooling (None, 16, 16, 32)        0         \n",
      "_________________________________________________________________\n",
      "conv2d_29 (Conv2D)           (None, 16, 16, 32)        9248      \n",
      "_________________________________________________________________\n",
      "max_pooling2d_25 (MaxPooling (None, 8, 8, 32)          0         \n",
      "_________________________________________________________________\n",
      "dropout_10 (Dropout)         (None, 8, 8, 32)          0         \n",
      "_________________________________________________________________\n",
      "conv2d_30 (Conv2D)           (None, 8, 8, 64)          18496     \n",
      "_________________________________________________________________\n",
      "max_pooling2d_26 (MaxPooling (None, 4, 4, 64)          0         \n",
      "_________________________________________________________________\n",
      "conv2d_31 (Conv2D)           (None, 4, 4, 64)          36928     \n",
      "_________________________________________________________________\n",
      "max_pooling2d_27 (MaxPooling (None, 2, 2, 64)          0         \n",
      "_________________________________________________________________\n",
      "dropout_11 (Dropout)         (None, 2, 2, 64)          0         \n",
      "_________________________________________________________________\n",
      "flatten_2 (Flatten)          (None, 256)               0         \n",
      "_________________________________________________________________\n",
      "dense_2 (Dense)              (None, 512)               131584    \n",
      "_________________________________________________________________\n",
      "dropout_12 (Dropout)         (None, 512)               0         \n",
      "_________________________________________________________________\n",
      "dense_3 (Dense)              (None, 10)                5130      \n",
      "=================================================================\n",
      "Total params: 202,282\n",
      "Trainable params: 202,282\n",
      "Non-trainable params: 0\n",
      "_________________________________________________________________\n"
     ]
    }
   ],
   "source": [
    "model.summary()"
   ]
  },
  {
   "cell_type": "code",
   "execution_count": 40,
   "metadata": {},
   "outputs": [],
   "source": [
    "model.compile(loss=\"categorical_crossentropy\", optimizer=\"adadelta\", metrics=['accuracy'])"
   ]
  },
  {
   "cell_type": "code",
   "execution_count": 45,
   "metadata": {},
   "outputs": [
    {
     "name": "stdout",
     "output_type": "stream",
     "text": [
      "Epoch 1/50\n",
      "50000/50000 [==============================] - 26s 521us/sample - loss: 1.9648 - accuracy: 0.2638\n",
      "Epoch 2/50\n",
      "50000/50000 [==============================] - 27s 532us/sample - loss: 1.9572 - accuracy: 0.2666\n",
      "Epoch 3/50\n",
      "50000/50000 [==============================] - 27s 543us/sample - loss: 1.9562 - accuracy: 0.2657\n",
      "Epoch 4/50\n",
      "50000/50000 [==============================] - 27s 548us/sample - loss: 1.9501 - accuracy: 0.2688\n",
      "Epoch 5/50\n",
      "50000/50000 [==============================] - 29s 588us/sample - loss: 1.9387 - accuracy: 0.2726\n",
      "Epoch 6/50\n",
      "50000/50000 [==============================] - 31s 629us/sample - loss: 1.9377 - accuracy: 0.2749\n",
      "Epoch 7/50\n",
      "50000/50000 [==============================] - 30s 590us/sample - loss: 1.9302 - accuracy: 0.2777\n",
      "Epoch 8/50\n",
      "50000/50000 [==============================] - 28s 553us/sample - loss: 1.9220 - accuracy: 0.2808\n",
      "Epoch 9/50\n",
      "50000/50000 [==============================] - 28s 561us/sample - loss: 1.9208 - accuracy: 0.2798\n",
      "Epoch 10/50\n",
      "50000/50000 [==============================] - 27s 539us/sample - loss: 1.9167 - accuracy: 0.2805\n",
      "Epoch 11/50\n",
      "50000/50000 [==============================] - 28s 555us/sample - loss: 1.9132 - accuracy: 0.2807\n",
      "Epoch 12/50\n",
      "50000/50000 [==============================] - 28s 558us/sample - loss: 1.9029 - accuracy: 0.2882\n",
      "Epoch 13/50\n",
      "50000/50000 [==============================] - 28s 559us/sample - loss: 1.9021 - accuracy: 0.2885\n",
      "Epoch 14/50\n",
      "50000/50000 [==============================] - 28s 556us/sample - loss: 1.9024 - accuracy: 0.2867\n",
      "Epoch 15/50\n",
      "50000/50000 [==============================] - 28s 566us/sample - loss: 1.8917 - accuracy: 0.2906\n",
      "Epoch 16/50\n",
      "50000/50000 [==============================] - 28s 566us/sample - loss: 1.8883 - accuracy: 0.2928\n",
      "Epoch 17/50\n",
      "50000/50000 [==============================] - 28s 561us/sample - loss: 1.8835 - accuracy: 0.2968\n",
      "Epoch 18/50\n",
      "50000/50000 [==============================] - 28s 563us/sample - loss: 1.8767 - accuracy: 0.2981\n",
      "Epoch 19/50\n",
      "50000/50000 [==============================] - 28s 565us/sample - loss: 1.8763 - accuracy: 0.2983\n",
      "Epoch 20/50\n",
      "50000/50000 [==============================] - 29s 571us/sample - loss: 1.8694 - accuracy: 0.2999\n",
      "Epoch 21/50\n",
      "50000/50000 [==============================] - 29s 573us/sample - loss: 1.8713 - accuracy: 0.2961\n",
      "Epoch 22/50\n",
      "50000/50000 [==============================] - 29s 578us/sample - loss: 1.8612 - accuracy: 0.3039\n",
      "Epoch 23/50\n",
      "50000/50000 [==============================] - 29s 582us/sample - loss: 1.8618 - accuracy: 0.3016\n",
      "Epoch 24/50\n",
      "50000/50000 [==============================] - 29s 575us/sample - loss: 1.8563 - accuracy: 0.3049\n",
      "Epoch 25/50\n",
      "50000/50000 [==============================] - 29s 580us/sample - loss: 1.8520 - accuracy: 0.3051\n",
      "Epoch 26/50\n",
      "50000/50000 [==============================] - 29s 573us/sample - loss: 1.8526 - accuracy: 0.3054\n",
      "Epoch 27/50\n",
      "50000/50000 [==============================] - 29s 574us/sample - loss: 1.8464 - accuracy: 0.3105\n",
      "Epoch 28/50\n",
      "50000/50000 [==============================] - 30s 591us/sample - loss: 1.8397 - accuracy: 0.3105\n",
      "Epoch 29/50\n",
      "50000/50000 [==============================] - 30s 599us/sample - loss: 1.8367 - accuracy: 0.3126\n",
      "Epoch 30/50\n",
      "50000/50000 [==============================] - 28s 564us/sample - loss: 1.8419 - accuracy: 0.3072\n",
      "Epoch 31/50\n",
      "50000/50000 [==============================] - 29s 574us/sample - loss: 1.8335 - accuracy: 0.3122\n",
      "Epoch 32/50\n",
      "50000/50000 [==============================] - 30s 601us/sample - loss: 1.8294 - accuracy: 0.3164\n",
      "Epoch 33/50\n",
      "50000/50000 [==============================] - 29s 581us/sample - loss: 1.8299 - accuracy: 0.3140\n",
      "Epoch 34/50\n",
      "50000/50000 [==============================] - 29s 570us/sample - loss: 1.8287 - accuracy: 0.3155\n",
      "Epoch 35/50\n",
      "50000/50000 [==============================] - 27s 531us/sample - loss: 1.8213 - accuracy: 0.3150\n",
      "Epoch 36/50\n",
      "50000/50000 [==============================] - 26s 512us/sample - loss: 1.8187 - accuracy: 0.3198\n",
      "Epoch 37/50\n",
      "50000/50000 [==============================] - 27s 550us/sample - loss: 1.8172 - accuracy: 0.3194\n",
      "Epoch 38/50\n",
      "50000/50000 [==============================] - 24s 477us/sample - loss: 1.8118 - accuracy: 0.3233\n",
      "Epoch 39/50\n",
      "50000/50000 [==============================] - 23s 469us/sample - loss: 1.8104 - accuracy: 0.3254\n",
      "Epoch 40/50\n",
      "50000/50000 [==============================] - 24s 480us/sample - loss: 1.8059 - accuracy: 0.3240\n",
      "Epoch 41/50\n",
      "50000/50000 [==============================] - 28s 552us/sample - loss: 1.8038 - accuracy: 0.3255\n",
      "Epoch 42/50\n",
      "50000/50000 [==============================] - 25s 507us/sample - loss: 1.7973 - accuracy: 0.3293\n",
      "Epoch 43/50\n",
      "50000/50000 [==============================] - 24s 488us/sample - loss: 1.8024 - accuracy: 0.3273\n",
      "Epoch 44/50\n",
      "50000/50000 [==============================] - 25s 505us/sample - loss: 1.8012 - accuracy: 0.3302\n",
      "Epoch 45/50\n",
      "50000/50000 [==============================] - 25s 496us/sample - loss: 1.7941 - accuracy: 0.3249\n",
      "Epoch 46/50\n",
      "50000/50000 [==============================] - 24s 483us/sample - loss: 1.7922 - accuracy: 0.3292\n",
      "Epoch 47/50\n",
      "50000/50000 [==============================] - 26s 525us/sample - loss: 1.7900 - accuracy: 0.3284\n",
      "Epoch 48/50\n",
      "50000/50000 [==============================] - 25s 510us/sample - loss: 1.7894 - accuracy: 0.3306\n",
      "Epoch 49/50\n",
      "50000/50000 [==============================] - 26s 512us/sample - loss: 1.7841 - accuracy: 0.3352\n",
      "Epoch 50/50\n",
      "50000/50000 [==============================] - 24s 486us/sample - loss: 1.7836 - accuracy: 0.3348\n"
     ]
    },
    {
     "data": {
      "text/plain": [
       "<tensorflow.python.keras.callbacks.History at 0xb30b721d0>"
      ]
     },
     "execution_count": 45,
     "metadata": {},
     "output_type": "execute_result"
    }
   ],
   "source": [
    "model.fit(x_train, keras.utils.to_categorical(y_train), epochs=50)"
   ]
  },
  {
   "cell_type": "code",
   "execution_count": null,
   "metadata": {},
   "outputs": [],
   "source": []
  }
 ],
 "metadata": {
  "kernelspec": {
   "display_name": "Python 3",
   "language": "python",
   "name": "python3"
  },
  "language_info": {
   "codemirror_mode": {
    "name": "ipython",
    "version": 3
   },
   "file_extension": ".py",
   "mimetype": "text/x-python",
   "name": "python",
   "nbconvert_exporter": "python",
   "pygments_lexer": "ipython3",
   "version": "3.6.5"
  }
 },
 "nbformat": 4,
 "nbformat_minor": 2
}
