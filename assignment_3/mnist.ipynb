{
 "cells": [
  {
   "cell_type": "code",
   "execution_count": 1,
   "metadata": {},
   "outputs": [
    {
     "name": "stdout",
     "output_type": "stream",
     "text": [
      "35735 35735\n"
     ]
    }
   ],
   "source": [
    "from __future__ import absolute_import, division, print_function\n",
    "import tensorflow as tf\n",
    "from tensorflow import keras\n",
    "from tensorflow.keras import Sequential\n",
    "from tensorflow.keras.layers import Conv2D, MaxPooling2D, Dropout, Dense, Flatten\n",
    "import numpy as np\n",
    "from matplotlib import pyplot as plt\n",
    "\n",
    "(X_train, y_train), (X_test, y_test) = tf.keras.datasets.mnist.load_data()\n",
    "X_train = X_train/255\n",
    "X_test = X_test/255\n",
    "\n",
    "num_classes = 5\n",
    "epochs = 50\n",
    "batch_size = 128\n",
    "verbose = 1\n",
    "\n",
    "A_train = X_train[y_train <= 4]\n",
    "b_train = y_train[y_train <= 4]\n",
    "A_test = X_test[y_test <= 4, :]\n",
    "b_test = y_test[y_test <= 4]\n",
    "print(len(A_train) + len(A_test), len(b_train) + len(b_test))\n",
    "\n",
    "C_train = X_train[y_train > 4, :]\n",
    "d_train = y_train[y_train > 4]\n",
    "C_test = X_test[y_test > 4, :]\n",
    "d_test = y_test[y_test > 4]\n",
    "\n",
    "A_train = A_train.reshape(len(A_train), 28, 28, 1)\n",
    "A_test = A_test.reshape(len(A_test), 28, 28, 1)\n",
    "b_train = tf.keras.utils.to_categorical(b_train, num_classes) # one-hot vectors\n",
    "b_test = tf.keras.utils.to_categorical(b_test, num_classes)"
   ]
  },
  {
   "cell_type": "code",
   "execution_count": 2,
   "metadata": {},
   "outputs": [
    {
     "name": "stdout",
     "output_type": "stream",
     "text": [
      "Model: \"sequential\"\n",
      "_________________________________________________________________\n",
      "Layer (type)                 Output Shape              Param #   \n",
      "=================================================================\n",
      "first_conv_layer (Conv2D)    (None, 26, 26, 32)        320       \n",
      "_________________________________________________________________\n",
      "second_conv_layer (Conv2D)   (None, 24, 24, 64)        18496     \n",
      "_________________________________________________________________\n",
      "pooling_layer (MaxPooling2D) (None, 12, 12, 64)        0         \n",
      "_________________________________________________________________\n",
      "first_dropout_layer (Dropout (None, 12, 12, 64)        0         \n",
      "_________________________________________________________________\n",
      "flatten_layer (Flatten)      (None, 9216)              0         \n",
      "_________________________________________________________________\n",
      "dense_layer (Dense)          (None, 128)               1179776   \n",
      "_________________________________________________________________\n",
      "second_dropout_layer (Dropou (None, 128)               0         \n",
      "_________________________________________________________________\n",
      "output_layer (Dense)         (None, 5)                 645       \n",
      "=================================================================\n",
      "Total params: 1,199,237\n",
      "Trainable params: 1,199,237\n",
      "Non-trainable params: 0\n",
      "_________________________________________________________________\n",
      "Train on 30596 samples, validate on 5139 samples\n",
      "Epoch 1/50\n",
      "30596/30596 [==============================] - 18s 585us/sample - loss: 1.5873 - accuracy: 0.2814 - val_loss: 1.5440 - val_accuracy: 0.5698\n",
      "Epoch 2/50\n",
      "30596/30596 [==============================] - 18s 583us/sample - loss: 1.5235 - accuracy: 0.4473 - val_loss: 1.4700 - val_accuracy: 0.7791\n",
      "Epoch 3/50\n",
      "30596/30596 [==============================] - 18s 586us/sample - loss: 1.4517 - accuracy: 0.5750 - val_loss: 1.3832 - val_accuracy: 0.8529\n",
      "Epoch 4/50\n",
      "30596/30596 [==============================] - 17s 568us/sample - loss: 1.3644 - accuracy: 0.6772 - val_loss: 1.2802 - val_accuracy: 0.8941\n",
      "Epoch 5/50\n",
      "30596/30596 [==============================] - 17s 570us/sample - loss: 1.2624 - accuracy: 0.7465 - val_loss: 1.1597 - val_accuracy: 0.9113\n",
      "Epoch 6/50\n",
      "30596/30596 [==============================] - 17s 554us/sample - loss: 1.1462 - accuracy: 0.7942 - val_loss: 1.0244 - val_accuracy: 0.9241\n",
      "Epoch 7/50\n",
      "30596/30596 [==============================] - 17s 555us/sample - loss: 1.0210 - accuracy: 0.8253 - val_loss: 0.8812 - val_accuracy: 0.9331\n",
      "Epoch 8/50\n",
      "30596/30596 [==============================] - 18s 579us/sample - loss: 0.8909 - accuracy: 0.8459 - val_loss: 0.7417 - val_accuracy: 0.9381\n",
      "Epoch 9/50\n",
      "30596/30596 [==============================] - 17s 572us/sample - loss: 0.7750 - accuracy: 0.8572 - val_loss: 0.6192 - val_accuracy: 0.9405\n",
      "Epoch 10/50\n",
      "30596/30596 [==============================] - 18s 584us/sample - loss: 0.6696 - accuracy: 0.8682 - val_loss: 0.5186 - val_accuracy: 0.9416\n",
      "Epoch 11/50\n",
      "30596/30596 [==============================] - 18s 597us/sample - loss: 0.5895 - accuracy: 0.8768 - val_loss: 0.4405 - val_accuracy: 0.9449\n",
      "Epoch 12/50\n",
      "30596/30596 [==============================] - 18s 603us/sample - loss: 0.5242 - accuracy: 0.8853 - val_loss: 0.3795 - val_accuracy: 0.9467\n",
      "Epoch 13/50\n",
      "30596/30596 [==============================] - 19s 608us/sample - loss: 0.4717 - accuracy: 0.8901 - val_loss: 0.3326 - val_accuracy: 0.9494\n",
      "Epoch 14/50\n",
      "30596/30596 [==============================] - 19s 617us/sample - loss: 0.4290 - accuracy: 0.8934 - val_loss: 0.2955 - val_accuracy: 0.9508\n",
      "Epoch 15/50\n",
      "30596/30596 [==============================] - 17s 554us/sample - loss: 0.3982 - accuracy: 0.9000 - val_loss: 0.2664 - val_accuracy: 0.9519\n",
      "Epoch 16/50\n",
      "30596/30596 [==============================] - 17s 561us/sample - loss: 0.3672 - accuracy: 0.9049 - val_loss: 0.2431 - val_accuracy: 0.9535: 0.3681 \n",
      "Epoch 17/50\n",
      "30596/30596 [==============================] - 17s 555us/sample - loss: 0.3420 - accuracy: 0.9093 - val_loss: 0.2236 - val_accuracy: 0.9554\n",
      "Epoch 18/50\n",
      "30596/30596 [==============================] - 17s 550us/sample - loss: 0.3252 - accuracy: 0.9132 - val_loss: 0.2084 - val_accuracy: 0.9580\n",
      "Epoch 19/50\n",
      "30596/30596 [==============================] - 19s 614us/sample - loss: 0.3105 - accuracy: 0.9167 - val_loss: 0.1958 - val_accuracy: 0.9586\n",
      "Epoch 20/50\n",
      "30596/30596 [==============================] - 19s 622us/sample - loss: 0.2946 - accuracy: 0.9178 - val_loss: 0.1853 - val_accuracy: 0.9591\n",
      "Epoch 21/50\n",
      "30596/30596 [==============================] - 19s 634us/sample - loss: 0.2840 - accuracy: 0.9205 - val_loss: 0.1763 - val_accuracy: 0.9595\n",
      "Epoch 22/50\n",
      "30596/30596 [==============================] - 19s 615us/sample - loss: 0.2742 - accuracy: 0.9221 - val_loss: 0.1683 - val_accuracy: 0.9603\n",
      "Epoch 23/50\n",
      "30596/30596 [==============================] - 18s 601us/sample - loss: 0.2661 - accuracy: 0.9230 - val_loss: 0.1619 - val_accuracy: 0.9607\n",
      "Epoch 24/50\n",
      "30596/30596 [==============================] - 18s 600us/sample - loss: 0.2568 - accuracy: 0.9250 - val_loss: 0.1563 - val_accuracy: 0.9617\n",
      "Epoch 25/50\n",
      "30596/30596 [==============================] - 17s 565us/sample - loss: 0.2483 - accuracy: 0.9290 - val_loss: 0.1511 - val_accuracy: 0.9624\n",
      "Epoch 26/50\n",
      "30596/30596 [==============================] - 19s 614us/sample - loss: 0.2418 - accuracy: 0.9292 - val_loss: 0.1466 - val_accuracy: 0.9628\n",
      "Epoch 27/50\n",
      "30596/30596 [==============================] - 18s 600us/sample - loss: 0.2371 - accuracy: 0.9316 - val_loss: 0.1425 - val_accuracy: 0.9630\n",
      "Epoch 28/50\n",
      "30596/30596 [==============================] - 19s 614us/sample - loss: 0.2343 - accuracy: 0.9312 - val_loss: 0.1388 - val_accuracy: 0.9642\n",
      "Epoch 29/50\n",
      "30596/30596 [==============================] - 18s 593us/sample - loss: 0.2248 - accuracy: 0.9342 - val_loss: 0.1351 - val_accuracy: 0.9658\n",
      "Epoch 30/50\n",
      "30596/30596 [==============================] - 18s 592us/sample - loss: 0.2225 - accuracy: 0.9339 - val_loss: 0.1324 - val_accuracy: 0.9663\n",
      "Epoch 31/50\n",
      "30596/30596 [==============================] - 18s 591us/sample - loss: 0.2192 - accuracy: 0.9354 - val_loss: 0.1297 - val_accuracy: 0.9667\n",
      "Epoch 32/50\n",
      "30596/30596 [==============================] - 19s 619us/sample - loss: 0.2140 - accuracy: 0.9369 - val_loss: 0.1273 - val_accuracy: 0.9671\n",
      "Epoch 33/50\n",
      "30596/30596 [==============================] - 19s 619us/sample - loss: 0.2125 - accuracy: 0.9385 - val_loss: 0.1251 - val_accuracy: 0.9673\n",
      "Epoch 34/50\n",
      "30596/30596 [==============================] - 19s 605us/sample - loss: 0.2075 - accuracy: 0.9396 - val_loss: 0.1225 - val_accuracy: 0.9685\n",
      "Epoch 35/50\n",
      "30596/30596 [==============================] - 19s 613us/sample - loss: 0.2081 - accuracy: 0.9382 - val_loss: 0.1206 - val_accuracy: 0.9687\n",
      "Epoch 36/50\n",
      "30596/30596 [==============================] - 19s 614us/sample - loss: 0.2073 - accuracy: 0.9387 - val_loss: 0.1190 - val_accuracy: 0.9687\n",
      "Epoch 37/50\n",
      "30596/30596 [==============================] - 19s 626us/sample - loss: 0.1994 - accuracy: 0.9404 - val_loss: 0.1170 - val_accuracy: 0.9689\n",
      "Epoch 38/50\n",
      "30596/30596 [==============================] - 19s 629us/sample - loss: 0.1950 - accuracy: 0.9421 - val_loss: 0.1154 - val_accuracy: 0.9689\n",
      "Epoch 39/50\n",
      "30596/30596 [==============================] - 18s 590us/sample - loss: 0.1944 - accuracy: 0.9429 - val_loss: 0.1136 - val_accuracy: 0.9689\n",
      "Epoch 40/50\n",
      "30596/30596 [==============================] - 18s 601us/sample - loss: 0.1897 - accuracy: 0.9431 - val_loss: 0.1120 - val_accuracy: 0.9691\n",
      "Epoch 41/50\n",
      "30596/30596 [==============================] - 18s 574us/sample - loss: 0.1905 - accuracy: 0.9421 - val_loss: 0.1107 - val_accuracy: 0.9691\n",
      "Epoch 42/50\n",
      "30596/30596 [==============================] - 18s 594us/sample - loss: 0.1854 - accuracy: 0.9456 - val_loss: 0.1094 - val_accuracy: 0.9691\n",
      "Epoch 43/50\n",
      "30596/30596 [==============================] - 17s 572us/sample - loss: 0.1853 - accuracy: 0.9444 - val_loss: 0.1080 - val_accuracy: 0.9694A: 0s - loss: 0.1851 - accuracy: 0.\n",
      "Epoch 44/50\n",
      "30596/30596 [==============================] - 17s 563us/sample - loss: 0.1846 - accuracy: 0.9449 - val_loss: 0.1069 - val_accuracy: 0.9696\n",
      "Epoch 45/50\n"
     ]
    },
    {
     "name": "stdout",
     "output_type": "stream",
     "text": [
      "30596/30596 [==============================] - 18s 604us/sample - loss: 0.1790 - accuracy: 0.9475 - val_loss: 0.1056 - val_accuracy: 0.9700\n",
      "Epoch 46/50\n",
      "30596/30596 [==============================] - 18s 596us/sample - loss: 0.1813 - accuracy: 0.9445 - val_loss: 0.1045 - val_accuracy: 0.9708\n",
      "Epoch 47/50\n",
      "30596/30596 [==============================] - 18s 572us/sample - loss: 0.1784 - accuracy: 0.9474 - val_loss: 0.1033 - val_accuracy: 0.9708\n",
      "Epoch 48/50\n",
      "30596/30596 [==============================] - 17s 556us/sample - loss: 0.1755 - accuracy: 0.9475 - val_loss: 0.1024 - val_accuracy: 0.9710\n",
      "Epoch 49/50\n",
      "30596/30596 [==============================] - 18s 583us/sample - loss: 0.1720 - accuracy: 0.9489 - val_loss: 0.1012 - val_accuracy: 0.9714\n",
      "Epoch 50/50\n",
      "30596/30596 [==============================] - 18s 572us/sample - loss: 0.1737 - accuracy: 0.9491 - val_loss: 0.1004 - val_accuracy: 0.9720\n"
     ]
    }
   ],
   "source": [
    "ab_model = Sequential([\n",
    "    Conv2D(32, (3, 3), activation='relu', input_shape=(28, 28, 1), name=\"first_conv_layer\"),\n",
    "    Conv2D(64, (3, 3), activation='relu', name=\"second_conv_layer\"),\n",
    "    MaxPooling2D(pool_size=(2, 2), name=\"pooling_layer\"),\n",
    "    Dropout(0.25, name=\"first_dropout_layer\"),\n",
    "    Flatten(name=\"flatten_layer\"),\n",
    "    Dense(128, activation='relu', name=\"dense_layer\"),\n",
    "    Dropout(0.5, name=\"second_dropout_layer\"),\n",
    "    Dense(num_classes, activation='softmax', name=\"output_layer\")\n",
    "])\n",
    "\n",
    "ab_model.summary()\n",
    "\n",
    "ab_model.compile(loss='categorical_crossentropy',\n",
    "              optimizer='adadelta',\n",
    "              metrics=['accuracy'])\n",
    "\n",
    "history = ab_model.fit(A_train, b_train,\n",
    "                    batch_size=batch_size,\n",
    "                    epochs=epochs,\n",
    "                    verbose=verbose,\n",
    "                    validation_data=(A_test, b_test))"
   ]
  },
  {
   "cell_type": "code",
   "execution_count": 4,
   "metadata": {},
   "outputs": [
    {
     "name": "stdout",
     "output_type": "stream",
     "text": [
      "Train on 30596 samples, validate on 5139 samples\n",
      "Epoch 1/20\n",
      "30596/30596 [==============================] - 18s 593us/sample - loss: 0.1492 - accuracy: 0.9552 - val_loss: 0.0859 - val_accuracy: 0.9749\n",
      "Epoch 2/20\n",
      "30596/30596 [==============================] - 18s 586us/sample - loss: 0.1481 - accuracy: 0.9549 - val_loss: 0.0853 - val_accuracy: 0.9753\n",
      "Epoch 3/20\n",
      "30596/30596 [==============================] - 18s 586us/sample - loss: 0.1481 - accuracy: 0.9559 - val_loss: 0.0847 - val_accuracy: 0.9761\n",
      "Epoch 4/20\n",
      "30596/30596 [==============================] - 18s 595us/sample - loss: 0.1479 - accuracy: 0.9557 - val_loss: 0.0839 - val_accuracy: 0.9765\n",
      "Epoch 5/20\n",
      "30596/30596 [==============================] - 18s 593us/sample - loss: 0.1458 - accuracy: 0.9557 - val_loss: 0.0836 - val_accuracy: 0.9763\n",
      "Epoch 6/20\n",
      "30596/30596 [==============================] - 18s 594us/sample - loss: 0.1451 - accuracy: 0.9568 - val_loss: 0.0833 - val_accuracy: 0.9765\n",
      "Epoch 7/20\n",
      "30596/30596 [==============================] - 19s 626us/sample - loss: 0.1437 - accuracy: 0.9575 - val_loss: 0.0826 - val_accuracy: 0.9765\n",
      "Epoch 8/20\n",
      "30596/30596 [==============================] - 19s 617us/sample - loss: 0.1452 - accuracy: 0.9573 - val_loss: 0.0823 - val_accuracy: 0.9766\n",
      "Epoch 9/20\n",
      "30596/30596 [==============================] - 18s 599us/sample - loss: 0.1461 - accuracy: 0.9561 - val_loss: 0.0816 - val_accuracy: 0.9768\n",
      "Epoch 10/20\n",
      "30596/30596 [==============================] - 18s 604us/sample - loss: 0.1418 - accuracy: 0.9574 - val_loss: 0.0810 - val_accuracy: 0.9766\n",
      "Epoch 11/20\n",
      "30596/30596 [==============================] - 18s 605us/sample - loss: 0.1422 - accuracy: 0.9573 - val_loss: 0.0807 - val_accuracy: 0.9768\n",
      "Epoch 12/20\n",
      "30596/30596 [==============================] - 18s 582us/sample - loss: 0.1397 - accuracy: 0.9586 - val_loss: 0.0802 - val_accuracy: 0.9768\n",
      "Epoch 13/20\n",
      "30596/30596 [==============================] - 19s 616us/sample - loss: 0.1407 - accuracy: 0.9582 - val_loss: 0.0798 - val_accuracy: 0.9768\n",
      "Epoch 14/20\n",
      "30596/30596 [==============================] - 18s 597us/sample - loss: 0.1395 - accuracy: 0.9581 - val_loss: 0.0795 - val_accuracy: 0.9766\n",
      "Epoch 15/20\n",
      "30596/30596 [==============================] - 17s 563us/sample - loss: 0.1391 - accuracy: 0.9595 - val_loss: 0.0791 - val_accuracy: 0.9766\n",
      "Epoch 16/20\n",
      "30596/30596 [==============================] - 18s 598us/sample - loss: 0.1390 - accuracy: 0.9584 - val_loss: 0.0787 - val_accuracy: 0.9766\n",
      "Epoch 17/20\n",
      "30596/30596 [==============================] - 18s 574us/sample - loss: 0.1409 - accuracy: 0.9584 - val_loss: 0.0783 - val_accuracy: 0.9766\n",
      "Epoch 18/20\n",
      "30596/30596 [==============================] - 18s 578us/sample - loss: 0.1369 - accuracy: 0.9593 - val_loss: 0.0779 - val_accuracy: 0.9770-\n",
      "Epoch 19/20\n",
      "30596/30596 [==============================] - 19s 618us/sample - loss: 0.1354 - accuracy: 0.9608 - val_loss: 0.0774 - val_accuracy: 0.9770\n",
      "Epoch 20/20\n",
      "30596/30596 [==============================] - 17s 569us/sample - loss: 0.1359 - accuracy: 0.9593 - val_loss: 0.0770 - val_accuracy: 0.9774\n"
     ]
    }
   ],
   "source": [
    "history = ab_model.fit(A_train, b_train,\n",
    "                    batch_size=batch_size,\n",
    "                    epochs=20,\n",
    "                    verbose=verbose,\n",
    "                    validation_data=(A_test, b_test))"
   ]
  },
  {
   "cell_type": "code",
   "execution_count": 6,
   "metadata": {},
   "outputs": [],
   "source": [
    "ab_model.save(\"mnist_classes_0_through_4.h5\")"
   ]
  },
  {
   "cell_type": "code",
   "execution_count": 8,
   "metadata": {},
   "outputs": [
    {
     "name": "stdout",
     "output_type": "stream",
     "text": [
      "Model: \"sequential_2\"\n",
      "_________________________________________________________________\n",
      "Layer (type)                 Output Shape              Param #   \n",
      "=================================================================\n",
      "first_conv_layer (Conv2D)    (None, 26, 26, 32)        320       \n",
      "_________________________________________________________________\n",
      "second_conv_layer (Conv2D)   (None, 24, 24, 64)        18496     \n",
      "_________________________________________________________________\n",
      "pooling_layer (MaxPooling2D) (None, 12, 12, 64)        0         \n",
      "_________________________________________________________________\n",
      "first_dropout_layer (Dropout (None, 12, 12, 64)        0         \n",
      "_________________________________________________________________\n",
      "flatten_layer (Flatten)      (None, 9216)              0         \n",
      "_________________________________________________________________\n",
      "dense_2 (Dense)              (None, 128)               1179776   \n",
      "_________________________________________________________________\n",
      "second_dropout_layer (Dropou (None, 128)               0         \n",
      "_________________________________________________________________\n",
      "dense_3 (Dense)              (None, 5)                 645       \n",
      "=================================================================\n",
      "Total params: 1,199,237\n",
      "Trainable params: 1,199,237\n",
      "Non-trainable params: 0\n",
      "_________________________________________________________________\n"
     ]
    }
   ],
   "source": [
    "cd_model = Sequential([\n",
    "    Conv2D(32, (3, 3), activation='relu', input_shape=(28, 28, 1), name=\"first_conv_layer\"),\n",
    "    Conv2D(64, (3, 3), activation='relu', name=\"second_conv_layer\"),\n",
    "    MaxPooling2D(pool_size=(2, 2), name=\"pooling_layer\"),\n",
    "    Dropout(0.25, name=\"first_dropout_layer\"),\n",
    "    Flatten(name=\"flatten_layer\"),\n",
    "    Dense(128, activation='relu'),\n",
    "    Dropout(0.5, name=\"second_dropout_layer\"),\n",
    "    Dense(num_classes, activation='softmax')\n",
    "])\n",
    "\n",
    "cd_model.summary()\n",
    "\n",
    "cd_model.compile(loss='categorical_crossentropy',\n",
    "              optimizer='adadelta',\n",
    "              metrics=['accuracy'])\n"
   ]
  },
  {
   "cell_type": "code",
   "execution_count": 9,
   "metadata": {},
   "outputs": [],
   "source": [
    "cd_model.load_weights(\"mnist_classes_0_through_4.h5\")"
   ]
  },
  {
   "cell_type": "code",
   "execution_count": 11,
   "metadata": {},
   "outputs": [],
   "source": [
    "I = np.random.choice(range(len(C_train)), size=500, replace=False)"
   ]
  },
  {
   "cell_type": "code",
   "execution_count": 23,
   "metadata": {},
   "outputs": [],
   "source": [
    "CC_train = C_train[I, :].reshape(-1, 28, 28, 1)\n",
    "dd_train = d_train[I]\n",
    "dd_train = tf.keras.utils.to_categorical(dd_train - 5, 5) # one-hot vectors\n",
    "# dd_train = tf.keras.utils.to_categorical(d_test - 5, 5) # one-hot vectors"
   ]
  },
  {
   "cell_type": "code",
   "execution_count": 29,
   "metadata": {},
   "outputs": [
    {
     "name": "stdout",
     "output_type": "stream",
     "text": [
      "(500, 28, 28, 1)\n",
      "(500, 5)\n",
      "Epoch 1/50\n",
      "29404/29404 [==============================] - 22s 739us/sample - loss: 1.4769 - accuracy: 0.4584\n",
      "Epoch 2/50\n",
      "29404/29404 [==============================] - 22s 759us/sample - loss: 1.1126 - accuracy: 0.5953\n",
      "Epoch 3/50\n",
      "29404/29404 [==============================] - 22s 737us/sample - loss: 0.9109 - accuracy: 0.6842\n",
      "Epoch 4/50\n",
      "29404/29404 [==============================] - 22s 755us/sample - loss: 0.7813 - accuracy: 0.7398\n",
      "Epoch 5/50\n",
      "29404/29404 [==============================] - 22s 754us/sample - loss: 0.6960 - accuracy: 0.7683\n",
      "Epoch 6/50\n",
      "29404/29404 [==============================] - 22s 753us/sample - loss: 0.6298 - accuracy: 0.7935\n",
      "Epoch 7/50\n",
      "29404/29404 [==============================] - 22s 753us/sample - loss: 0.5805 - accuracy: 0.8069\n",
      "Epoch 8/50\n",
      "29404/29404 [==============================] - 21s 729us/sample - loss: 0.5355 - accuracy: 0.8242\n",
      "Epoch 9/50\n",
      "29404/29404 [==============================] - 22s 740us/sample - loss: 0.5057 - accuracy: 0.8329\n",
      "Epoch 10/50\n",
      "29404/29404 [==============================] - 22s 748us/sample - loss: 0.4777 - accuracy: 0.8425\n",
      "Epoch 11/50\n",
      "29404/29404 [==============================] - 22s 739us/sample - loss: 0.4552 - accuracy: 0.8537\n",
      "Epoch 12/50\n",
      "29404/29404 [==============================] - 22s 740us/sample - loss: 0.4296 - accuracy: 0.8607\n",
      "Epoch 13/50\n",
      "29404/29404 [==============================] - 22s 732us/sample - loss: 0.4173 - accuracy: 0.8663\n",
      "Epoch 14/50\n",
      "29404/29404 [==============================] - 22s 745us/sample - loss: 0.3966 - accuracy: 0.8707\n",
      "Epoch 15/50\n",
      "29404/29404 [==============================] - 22s 749us/sample - loss: 0.3828 - accuracy: 0.8754\n",
      "Epoch 16/50\n",
      "29404/29404 [==============================] - 21s 729us/sample - loss: 0.3758 - accuracy: 0.8799- loss: 0.376\n",
      "Epoch 17/50\n",
      "29404/29404 [==============================] - 129s 4ms/sample - loss: 0.3622 - accuracy: 0.8858\n",
      "Epoch 18/50\n",
      "29404/29404 [==============================] - 22s 751us/sample - loss: 0.3484 - accuracy: 0.8915\n",
      "Epoch 19/50\n",
      "29404/29404 [==============================] - 22s 751us/sample - loss: 0.3456 - accuracy: 0.8896\n",
      "Epoch 20/50\n",
      "29404/29404 [==============================] - 22s 763us/sample - loss: 0.3360 - accuracy: 0.8949\n",
      "Epoch 21/50\n",
      "29404/29404 [==============================] - 23s 777us/sample - loss: 0.3315 - accuracy: 0.8943\n",
      "Epoch 22/50\n",
      "29404/29404 [==============================] - 23s 797us/sample - loss: 0.3187 - accuracy: 0.9011\n",
      "Epoch 23/50\n",
      "29404/29404 [==============================] - 24s 800us/sample - loss: 0.3140 - accuracy: 0.9029\n",
      "Epoch 24/50\n",
      "29404/29404 [==============================] - 23s 787us/sample - loss: 0.3117 - accuracy: 0.9025\n",
      "Epoch 25/50\n",
      "29404/29404 [==============================] - 23s 778us/sample - loss: 0.3021 - accuracy: 0.9041\n",
      "Epoch 26/50\n",
      "29404/29404 [==============================] - 23s 774us/sample - loss: 0.2978 - accuracy: 0.9045\n",
      "Epoch 27/50\n",
      "29404/29404 [==============================] - 23s 776us/sample - loss: 0.2919 - accuracy: 0.9076\n",
      "Epoch 28/50\n",
      "29404/29404 [==============================] - 23s 776us/sample - loss: 0.2913 - accuracy: 0.9081\n",
      "Epoch 29/50\n",
      "29404/29404 [==============================] - 23s 774us/sample - loss: 0.2838 - accuracy: 0.9104\n",
      "Epoch 30/50\n",
      "29404/29404 [==============================] - 23s 780us/sample - loss: 0.2742 - accuracy: 0.9163\n",
      "Epoch 31/50\n",
      "29404/29404 [==============================] - 23s 775us/sample - loss: 0.2761 - accuracy: 0.9129\n",
      "Epoch 32/50\n",
      "29404/29404 [==============================] - 23s 774us/sample - loss: 0.2709 - accuracy: 0.9138\n",
      "Epoch 33/50\n",
      "29404/29404 [==============================] - 23s 777us/sample - loss: 0.2677 - accuracy: 0.9148\n",
      "Epoch 34/50\n",
      "29404/29404 [==============================] - 23s 774us/sample - loss: 0.2653 - accuracy: 0.9170\n",
      "Epoch 35/50\n",
      "29404/29404 [==============================] - 22s 746us/sample - loss: 0.2604 - accuracy: 0.9193\n",
      "Epoch 36/50\n",
      "29404/29404 [==============================] - 21s 703us/sample - loss: 0.2618 - accuracy: 0.9183\n",
      "Epoch 37/50\n",
      "29404/29404 [==============================] - 20s 681us/sample - loss: 0.2547 - accuracy: 0.9201\n",
      "Epoch 38/50\n",
      "29404/29404 [==============================] - 20s 679us/sample - loss: 0.2579 - accuracy: 0.9189\n",
      "Epoch 39/50\n",
      "29404/29404 [==============================] - 20s 680us/sample - loss: 0.2508 - accuracy: 0.9211\n",
      "Epoch 40/50\n",
      "29404/29404 [==============================] - 20s 679us/sample - loss: 0.2493 - accuracy: 0.9228\n",
      "Epoch 41/50\n",
      "29404/29404 [==============================] - 20s 681us/sample - loss: 0.2509 - accuracy: 0.9212\n",
      "Epoch 42/50\n",
      "29404/29404 [==============================] - 20s 685us/sample - loss: 0.2423 - accuracy: 0.9247\n",
      "Epoch 43/50\n",
      "29404/29404 [==============================] - 20s 682us/sample - loss: 0.2409 - accuracy: 0.9246\n",
      "Epoch 44/50\n",
      "29404/29404 [==============================] - 20s 681us/sample - loss: 0.2373 - accuracy: 0.9264\n",
      "Epoch 45/50\n",
      "29404/29404 [==============================] - 20s 679us/sample - loss: 0.2388 - accuracy: 0.9256\n",
      "Epoch 46/50\n",
      "29404/29404 [==============================] - 20s 681us/sample - loss: 0.2341 - accuracy: 0.9259\n",
      "Epoch 47/50\n",
      "29404/29404 [==============================] - 20s 680us/sample - loss: 0.2331 - accuracy: 0.9262\n",
      "Epoch 48/50\n",
      "29404/29404 [==============================] - 20s 684us/sample - loss: 0.2272 - accuracy: 0.9288\n",
      "Epoch 49/50\n",
      "29404/29404 [==============================] - 20s 680us/sample - loss: 0.2298 - accuracy: 0.9303\n",
      "Epoch 50/50\n",
      "29404/29404 [==============================] - 20s 682us/sample - loss: 0.2266 - accuracy: 0.9290\n"
     ]
    },
    {
     "data": {
      "text/plain": [
       "<tensorflow.python.keras.callbacks.History at 0xb2d4e9d68>"
      ]
     },
     "execution_count": 29,
     "metadata": {},
     "output_type": "execute_result"
    }
   ],
   "source": [
    "cd_model.compile(loss='categorical_crossentropy',\n",
    "              optimizer='adadelta',\n",
    "              metrics=['accuracy'])\n",
    "\n",
    "print(CC_train.shape)\n",
    "print(dd_train.shape)\n",
    "\n",
    "cd_model.fit(C_train.reshape(-1, 28, 28, 1), tf.keras.utils.to_categorical(d_train - 5, 5),\n",
    "                    batch_size=32,\n",
    "                    epochs=epochs,\n",
    "                    verbose=verbose)"
   ]
  },
  {
   "cell_type": "code",
   "execution_count": 16,
   "metadata": {},
   "outputs": [
    {
     "data": {
      "text/plain": [
       "(500,)"
      ]
     },
     "execution_count": 16,
     "metadata": {},
     "output_type": "execute_result"
    }
   ],
   "source": [
    "dd_train.shape"
   ]
  },
  {
   "cell_type": "code",
   "execution_count": 17,
   "metadata": {},
   "outputs": [
    {
     "data": {
      "text/plain": [
       "array([5, 6, 7, 8, 9], dtype=uint8)"
      ]
     },
     "execution_count": 17,
     "metadata": {},
     "output_type": "execute_result"
    }
   ],
   "source": [
    "np.unique(dd_train)"
   ]
  },
  {
   "cell_type": "code",
   "execution_count": 69,
   "metadata": {},
   "outputs": [
    {
     "name": "stdout",
     "output_type": "stream",
     "text": [
      "Model: \"sequential_28\"\n",
      "_________________________________________________________________\n",
      "Layer (type)                 Output Shape              Param #   \n",
      "=================================================================\n",
      "C1 (Conv2D)                  (None, 26, 26, 32)        320       \n",
      "_________________________________________________________________\n",
      "C2 (Conv2D)                  (None, 24, 24, 32)        9248      \n",
      "_________________________________________________________________\n",
      "MP1 (MaxPooling2D)           (None, 8, 8, 32)          0         \n",
      "_________________________________________________________________\n",
      "DO1 (Dropout)                (None, 8, 8, 32)          0         \n",
      "_________________________________________________________________\n",
      "F1 (Flatten)                 (None, 2048)              0         \n",
      "_________________________________________________________________\n",
      "De1 (Dense)                  (None, 32)                65568     \n",
      "_________________________________________________________________\n",
      "DO3 (Dropout)                (None, 32)                0         \n",
      "_________________________________________________________________\n",
      "De2 (Dense)                  (None, 10)                330       \n",
      "=================================================================\n",
      "Total params: 75,466\n",
      "Trainable params: 75,466\n",
      "Non-trainable params: 0\n",
      "_________________________________________________________________\n",
      "(60000, 28, 28, 1) (10000, 28, 28, 1) (60000, 10) (10000, 10)\n"
     ]
    }
   ],
   "source": [
    "model = Sequential([\n",
    "    Conv2D(32, (3, 3), activation='relu', input_shape=(28, 28, 1), name=\"C1\"),\n",
    "    Conv2D(32, (3, 3), activation='relu', name=\"C2\"),\n",
    "    MaxPooling2D(pool_size=(3, 3), name=\"MP1\"),\n",
    "    Dropout(0.25, name=\"DO1\"),\n",
    "#     Conv2D(32, (3, 3), activation='relu', input_shape=(28, 28, 1), name=\"C3\"),\n",
    "#     Conv2D(32, (3, 3), activation='relu', name=\"C4\"),\n",
    "#     MaxPooling2D(pool_size=(2, 2), name=\"MP2\"),\n",
    "#     Dropout(0.25, name=\"DO2\"),\n",
    "    Flatten(name=\"F1\"),\n",
    "    Dense(32, activation='relu', name=\"De1\"),\n",
    "    Dropout(0.25, name=\"DO3\"),\n",
    "    Dense(10, activation='softmax', name=\"De2\")\n",
    "])\n",
    "\n",
    "model.summary()\n",
    "\n",
    "model.compile(loss='categorical_crossentropy',\n",
    "              optimizer='rmsprop',\n",
    "              metrics=['accuracy'])\n",
    "\n",
    "(X_train, y_train), (X_test, y_test) = tf.keras.datasets.mnist.load_data()\n",
    "X_train = X_train/255\n",
    "X_test = X_test/255\n",
    "\n",
    "X_train = X_train.reshape(len(X_train), 28, 28, 1)\n",
    "X_test = X_test.reshape(len(X_test), 28, 28, 1)\n",
    "y_train = tf.keras.utils.to_categorical(y_train, 10)\n",
    "y_test = tf.keras.utils.to_categorical(y_test, 10)\n",
    "\n",
    "print(X_train.shape, X_test.shape, y_train.shape, y_test.shape)"
   ]
  },
  {
   "cell_type": "code",
   "execution_count": 70,
   "metadata": {},
   "outputs": [
    {
     "name": "stdout",
     "output_type": "stream",
     "text": [
      "Train on 60000 samples, validate on 10000 samples\n",
      "Epoch 1/5\n",
      "60000/60000 [==============================] - 32s 537us/sample - loss: 0.2536 - accuracy: 0.9221 - val_loss: 0.0694 - val_accuracy: 0.9778\n",
      "Epoch 2/5\n",
      "60000/60000 [==============================] - 32s 539us/sample - loss: 0.1115 - accuracy: 0.9672 - val_loss: 0.0558 - val_accuracy: 0.9813\n",
      "Epoch 3/5\n",
      "60000/60000 [==============================] - 32s 531us/sample - loss: 0.0935 - accuracy: 0.9732 - val_loss: 0.0419 - val_accuracy: 0.9862\n",
      "Epoch 4/5\n",
      "60000/60000 [==============================] - 32s 535us/sample - loss: 0.0927 - accuracy: 0.9740 - val_loss: 0.0454 - val_accuracy: 0.9856\n",
      "Epoch 5/5\n",
      "60000/60000 [==============================] - 32s 530us/sample - loss: 0.0891 - accuracy: 0.9752 - val_loss: 0.0505 - val_accuracy: 0.9860\n"
     ]
    },
    {
     "data": {
      "text/plain": [
       "<tensorflow.python.keras.callbacks.History at 0xb87782668>"
      ]
     },
     "execution_count": 70,
     "metadata": {},
     "output_type": "execute_result"
    }
   ],
   "source": [
    "model.fit(X_train, y_train,\n",
    "                    epochs=5,\n",
    "                    verbose=verbose,\n",
    "                    validation_data=(X_test, y_test))"
   ]
  },
  {
   "cell_type": "code",
   "execution_count": 71,
   "metadata": {},
   "outputs": [],
   "source": [
    "model.save(\"mnist-small.h5\")"
   ]
  },
  {
   "cell_type": "code",
   "execution_count": 76,
   "metadata": {},
   "outputs": [
    {
     "name": "stdout",
     "output_type": "stream",
     "text": [
      "(60000, 28, 28, 1) (10000, 28, 28, 1) (60000, 10) (10000, 10)\n"
     ]
    }
   ],
   "source": [
    "from tensorflow.keras.datasets import fashion_mnist\n",
    "(X_train, y_train), (X_test, y_test) = tf.keras.datasets.fashion_mnist.load_data()\n",
    "X_train = X_train/255\n",
    "X_test = X_test/255\n",
    "\n",
    "X_train = X_train.reshape(len(X_train), 28, 28, 1)\n",
    "X_test = X_test.reshape(len(X_test), 28, 28, 1)\n",
    "y_train = tf.keras.utils.to_categorical(y_train, 10)\n",
    "y_test = tf.keras.utils.to_categorical(y_test, 10)\n",
    "\n",
    "print(X_train.shape, X_test.shape, y_train.shape, y_test.shape)"
   ]
  },
  {
   "cell_type": "code",
   "execution_count": 73,
   "metadata": {},
   "outputs": [],
   "source": [
    "# I = np.random.choice(range(60000), size=50, replace=False)\n",
    "# X_train = X_train[I, :, :, :]\n",
    "# y_train = y_train[I, :]"
   ]
  },
  {
   "cell_type": "code",
   "execution_count": 99,
   "metadata": {},
   "outputs": [
    {
     "name": "stdout",
     "output_type": "stream",
     "text": [
      "Model: \"sequential_44\"\n",
      "_________________________________________________________________\n",
      "Layer (type)                 Output Shape              Param #   \n",
      "=================================================================\n",
      "C1 (Conv2D)                  (None, 26, 26, 32)        320       \n",
      "_________________________________________________________________\n",
      "C2 (Conv2D)                  (None, 24, 24, 32)        9248      \n",
      "_________________________________________________________________\n",
      "MP1 (MaxPooling2D)           (None, 12, 12, 32)        0         \n",
      "_________________________________________________________________\n",
      "DO1 (Dropout)                (None, 12, 12, 32)        0         \n",
      "_________________________________________________________________\n",
      "C3 (Conv2D)                  (None, 10, 10, 32)        9248      \n",
      "_________________________________________________________________\n",
      "C4 (Conv2D)                  (None, 8, 8, 32)          9248      \n",
      "_________________________________________________________________\n",
      "MP2 (MaxPooling2D)           (None, 4, 4, 32)          0         \n",
      "_________________________________________________________________\n",
      "DO2 (Dropout)                (None, 4, 4, 32)          0         \n",
      "_________________________________________________________________\n",
      "F1 (Flatten)                 (None, 512)               0         \n",
      "_________________________________________________________________\n",
      "dense_37 (Dense)             (None, 128)               65664     \n",
      "_________________________________________________________________\n",
      "dropout_55 (Dropout)         (None, 128)               0         \n",
      "_________________________________________________________________\n",
      "dense_38 (Dense)             (None, 10)                1290      \n",
      "=================================================================\n",
      "Total params: 95,018\n",
      "Trainable params: 66,954\n",
      "Non-trainable params: 28,064\n",
      "_________________________________________________________________\n"
     ]
    }
   ],
   "source": [
    "model = Sequential([\n",
    "    Conv2D(32, (3, 3), activation='relu', input_shape=(28, 28, 1), name=\"C1\", trainable=False),\n",
    "    Conv2D(32, (3, 3), activation='relu', name=\"C2\", trainable=False),\n",
    "    MaxPooling2D(pool_size=(2, 2), name=\"MP1\"),\n",
    "    Dropout(0.25, name=\"DO1\"),\n",
    "    Conv2D(32, (3, 3), activation='relu', input_shape=(28, 28, 1), name=\"C3\", trainable=False),\n",
    "    Conv2D(32, (3, 3), activation='relu', name=\"C4\", trainable=False),\n",
    "    MaxPooling2D(pool_size=(2, 2), name=\"MP2\"),\n",
    "    Dropout(0.25, name=\"DO2\"),\n",
    "    Flatten(name=\"F1\"),\n",
    "    Dense(128, activation='relu'),\n",
    "    Dropout(0.25),\n",
    "    Dense(10, activation='softmax')\n",
    "])\n",
    "\n",
    "\n",
    "model.compile(loss='categorical_crossentropy',\n",
    "              optimizer='rmsprop',\n",
    "              metrics=['accuracy'])\n",
    "\n",
    "model.load_weights(\"mnist-128.h5\", by_name=True)\n",
    "\n",
    "model.summary()"
   ]
  },
  {
   "cell_type": "code",
   "execution_count": 100,
   "metadata": {},
   "outputs": [
    {
     "name": "stdout",
     "output_type": "stream",
     "text": [
      "Train on 60000 samples, validate on 10000 samples\n",
      "Epoch 1/5\n",
      "60000/60000 [==============================] - 10s 166us/sample - loss: 0.7992 - accuracy: 0.7321 - val_loss: 0.5886 - val_accuracy: 0.7917\n",
      "Epoch 2/5\n",
      "60000/60000 [==============================] - 9s 158us/sample - loss: 0.6250 - accuracy: 0.7771 - val_loss: 0.5433 - val_accuracy: 0.8128\n",
      "Epoch 3/5\n",
      "60000/60000 [==============================] - 10s 161us/sample - loss: 0.5970 - accuracy: 0.7881 - val_loss: 0.5307 - val_accuracy: 0.8141\n",
      "Epoch 4/5\n",
      "60000/60000 [==============================] - 10s 167us/sample - loss: 0.5904 - accuracy: 0.7939 - val_loss: 0.5143 - val_accuracy: 0.8244\n",
      "Epoch 5/5\n",
      "60000/60000 [==============================] - 10s 170us/sample - loss: 0.5798 - accuracy: 0.7996 - val_loss: 0.5178 - val_accuracy: 0.8194\n"
     ]
    },
    {
     "data": {
      "text/plain": [
       "<tensorflow.python.keras.callbacks.History at 0xb2f94c5c0>"
      ]
     },
     "execution_count": 100,
     "metadata": {},
     "output_type": "execute_result"
    }
   ],
   "source": [
    "model.fit(X_train, y_train,\n",
    "                    epochs=5,\n",
    "                    verbose=verbose,\n",
    "                    validation_data=(X_test, y_test))"
   ]
  },
  {
   "cell_type": "code",
   "execution_count": null,
   "metadata": {},
   "outputs": [],
   "source": []
  }
 ],
 "metadata": {
  "kernelspec": {
   "display_name": "Python 3",
   "language": "python",
   "name": "python3"
  },
  "language_info": {
   "codemirror_mode": {
    "name": "ipython",
    "version": 3
   },
   "file_extension": ".py",
   "mimetype": "text/x-python",
   "name": "python",
   "nbconvert_exporter": "python",
   "pygments_lexer": "ipython3",
   "version": "3.6.5"
  }
 },
 "nbformat": 4,
 "nbformat_minor": 2
}
